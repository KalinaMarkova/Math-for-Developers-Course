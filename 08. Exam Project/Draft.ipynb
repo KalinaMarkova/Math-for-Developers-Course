{
 "cells": [
  {
   "cell_type": "code",
   "execution_count": 73,
   "id": "779f6fe9-59d2-48b6-869e-285909c3a880",
   "metadata": {},
   "outputs": [],
   "source": [
    "%matplotlib inline"
   ]
  },
  {
   "cell_type": "code",
   "execution_count": 100,
   "id": "cc6e2621-000c-409a-80a1-dda12e0d997d",
   "metadata": {},
   "outputs": [],
   "source": [
    "import numpy as np\n",
    "import matplotlib.pyplot as plt\n",
    "import pandas as pd\n",
    "import seaborn as sns\n",
    "from numpy import linalg\n",
    "\n",
    "from sklearn.decomposition import PCA\n"
   ]
  },
  {
   "cell_type": "code",
   "execution_count": null,
   "id": "0092365c-92f6-4871-88dd-869d78c56bf2",
   "metadata": {},
   "outputs": [],
   "source": []
  },
  {
   "cell_type": "markdown",
   "id": "8f9bd487-5929-43d9-94a1-761738307acb",
   "metadata": {},
   "source": [
    "\n",
    "# Principal Component Analysis\n",
    "### What is PCA?\n",
    "\n",
    "**Principal Component Analysis (PCA)** is a linear dimensionality reduction technique that can be utilized for extracting information from a high-dimensional space by projecting it into a lower-dimensional sub-space. It tries to preserve the essential parts that have more variation of the data and remove the non-essential parts with fewer variation. It works by transforming the original features into a new set of uncorrelated features called *principal components*, which capture most of the variability in the data.\n",
    "\n",
    "![](PCA.webp)\n",
    "\n",
    "PCA is centered on identifying the primary directions of **maximum variance** within the data. These high-variance directions typically signify the signal, while low-variance directions tend to reflect noise. By retaining the most significant principal components, PCA can filter out noise and highlight the underlying patterns in the data. \n",
    "\n",
    "PCA falls in the unsupervised branch of machine learning which uses **orthogonal linear transformation** based on the eigenvector and eigenvalue decomposition of the covariance matrix [[1](https://www.datacamp.com/tutorial/principal-component-analysis-in-python)][[2](https://medium.com/@niranjan.appaji/addressing-the-curse-of-dimensionality-unveiling-pcas-power-247956bc9a4d#:~:text=The%20curse%20of%20dimensionality%20refers,as%20we%20add%20more%20dimensions.)][[3](https://medium.com/codex/principle-component-analysis-pca-simplified-with-implementation-a05eb86084f8)].\n",
    "\n",
    "\n",
    "PCA will be more useful when the variables are strongly correlated because the combined variable will then contain more information of the variables, compared to if the variables show a weak correlation to each other [[4](https://www.youtube.com/watch?v=dz8imS1vwIM)]\n",
    "\n",
    "#### Why is PCA useful?\n",
    "\n",
    "PCA is useful for reducing the dimensionality of the data while retaining as much information as possible. Reducing dimensionality can lead to simpler models, reduced computational complexity, and improved generalization to new, unseen data. In addition, utilizing a model trained on a reduced set of principal components typically demands fewer computational resources and less time, leading to enhanced overall model performace.\n",
    "\n",
    "\n",
    "**The curse of dimensionality** refers to the increasing amount of data required to effectively fill space as the number of dimensions grows. For exmple, eight points may fill a one-dimensional space well, but their distance from each other becomes more noticeable as we add more dimensions. In a 10 or more dimensional space, these points would be even more widely dispersed.\n",
    "\n",
    "\n",
    "\n"
   ]
  },
  {
   "cell_type": "markdown",
   "id": "1da6ba22-6176-49bf-9710-ba300f9fe1f8",
   "metadata": {},
   "source": [
    "![](dimensionsionality.jpg)\n"
   ]
  },
  {
   "cell_type": "markdown",
   "id": "ffe7347c-03f9-4d32-98c7-0f358c82fb22",
   "metadata": {},
   "source": [
    "Selecting inputs, which involves reducing the number of inputs, is an evident strategy to counteract the curse of dimensionality. However, diminishing the dimensionality is also a straightforward method to overlook crucial inform The main rationale for excluding a variable is its redundancy, specifically, the presence of multicollinearity among variables. [[2](https://medium.com/@niranjan.appaji/addressing-the-curse-of-dimensionality-unveiling-pcas-power-247956bc9a4d#:~:text=The%20curse%20of%20dimensionality%20refers,as%20we%20add%20more%20dimensions.)]"
   ]
  },
  {
   "cell_type": "markdown",
   "id": "7b2b705c-50c2-4ff8-b0a7-1b72186e5a24",
   "metadata": {},
   "source": [
    "### Eigenvalue Decomposition PCA Demo\n",
    "\n",
    "We can summarize the **basic steps** of PCA as follows:\r",
    "1. Standardization of data\r\n",
    "2. Computation of Covariance Matrix\r\n",
    "3. Calculation of Eigenvectsor and Eigenvalsue\r\n",
    "4. Selection of number of Principal Components\r\n",
    "5. Multiplication of principal components with original data to create the newly transformed data set."
   ]
  },
  {
   "cell_type": "markdown",
   "id": "fc270fcd-2303-4e4f-8a1b-3a80c4ab988c",
   "metadata": {},
   "source": [
    "Let's demonstrate the techniqueon a simple synthetic dataset that presents a correlation between *salary* and *expenses*. We will generate the dataset as a *NumPy array* and then create a *DataFrame* using *Pandas*:"
   ]
  },
  {
   "cell_type": "code",
   "execution_count": 74,
   "id": "9be24a85-e8e4-44d5-909f-c4b8da83bf6f",
   "metadata": {},
   "outputs": [],
   "source": [
    "# Creating a dummy dataset\n",
    "data = np.array([[1000, 500],[2000, 800],[3000, 1100],[4000, 1500],[5000,1800],[8000, 1900]])\n",
    "# Creating a dataframe\n",
    "df = pd.DataFrame(data,columns = ['Salary','Expenses'])"
   ]
  },
  {
   "cell_type": "code",
   "execution_count": 75,
   "id": "5e663705-1ae4-4a03-b9cb-f77ef23086d4",
   "metadata": {},
   "outputs": [
    {
     "data": {
      "text/html": [
       "<div>\n",
       "<style scoped>\n",
       "    .dataframe tbody tr th:only-of-type {\n",
       "        vertical-align: middle;\n",
       "    }\n",
       "\n",
       "    .dataframe tbody tr th {\n",
       "        vertical-align: top;\n",
       "    }\n",
       "\n",
       "    .dataframe thead th {\n",
       "        text-align: right;\n",
       "    }\n",
       "</style>\n",
       "<table border=\"1\" class=\"dataframe\">\n",
       "  <thead>\n",
       "    <tr style=\"text-align: right;\">\n",
       "      <th></th>\n",
       "      <th>Salary</th>\n",
       "      <th>Expenses</th>\n",
       "    </tr>\n",
       "  </thead>\n",
       "  <tbody>\n",
       "    <tr>\n",
       "      <th>0</th>\n",
       "      <td>1000</td>\n",
       "      <td>500</td>\n",
       "    </tr>\n",
       "    <tr>\n",
       "      <th>1</th>\n",
       "      <td>2000</td>\n",
       "      <td>800</td>\n",
       "    </tr>\n",
       "    <tr>\n",
       "      <th>2</th>\n",
       "      <td>3000</td>\n",
       "      <td>1100</td>\n",
       "    </tr>\n",
       "    <tr>\n",
       "      <th>3</th>\n",
       "      <td>4000</td>\n",
       "      <td>1500</td>\n",
       "    </tr>\n",
       "    <tr>\n",
       "      <th>4</th>\n",
       "      <td>5000</td>\n",
       "      <td>1800</td>\n",
       "    </tr>\n",
       "    <tr>\n",
       "      <th>5</th>\n",
       "      <td>8000</td>\n",
       "      <td>1900</td>\n",
       "    </tr>\n",
       "  </tbody>\n",
       "</table>\n",
       "</div>"
      ],
      "text/plain": [
       "   Salary  Expenses\n",
       "0    1000       500\n",
       "1    2000       800\n",
       "2    3000      1100\n",
       "3    4000      1500\n",
       "4    5000      1800\n",
       "5    8000      1900"
      ]
     },
     "execution_count": 75,
     "metadata": {},
     "output_type": "execute_result"
    }
   ],
   "source": [
    "df"
   ]
  },
  {
   "cell_type": "markdown",
   "id": "dab13722-23d4-4955-bf18-cc380b523cb5",
   "metadata": {},
   "source": [
    "Let's visualize the dataset by a scatterplot using a regression line to show the **correlation** using *Seaborn*:"
   ]
  },
  {
   "cell_type": "code",
   "execution_count": 76,
   "id": "f235ec45-f1a9-4364-a910-91f2610d4f95",
   "metadata": {},
   "outputs": [
    {
     "data": {
      "image/png": "[encoded data removed]",
      "text/plain": [
       "<Figure size 500x500 with 1 Axes>"
      ]
     },
     "metadata": {},
     "output_type": "display_data"
    }
   ],
   "source": [
    "# Create a scatter plot with a regression line to show the correlation\n",
    "plot = sns.lmplot(x = 'Salary', y = 'Expenses', data = df, ci = None)\n",
    "plt.title(\"Salary vs Expenses\")\n",
    "plt.xlabel('Salary')\n",
    "plt.ylabel('Expenses')\n",
    "plt.show()"
   ]
  },
  {
   "cell_type": "markdown",
   "id": "9183b2af-b7f0-4663-81b6-d7bc3964c8ac",
   "metadata": {},
   "source": [
    "Now we can proceed with the first step:\n",
    "\n",
    "### 1. Standardization of data\n",
    "\n",
    "As PCA will calculate a new projection of our dataset in which the new axes are based on the standard deviation of our variables, a variable with a high standard deviation will have a higher weight for the calculation of the axes than a variable with a low standard deviation. This is the reason why we need to standardize the data.\n",
    "\n",
    "To standardize a variable, we subtract the corresponding mean from all values of the variable, which will result in centered data. Then we divide the centered data by the standard deviation of the corresponding variable, which will give us the standardized variable: \n",
    "\n",
    "$$ z = \\frac{x - \\mu}{\\sigma}$$\n",
    "\n",
    "By standardizing the variables, we have transformed them to have a mean ($\\mu$) of 0 and a standard deviation ($\\sigma$) of 1. \n",
    "\n",
    "To implementis in the code, we use will *pandas*, as it is closer to implementation the math, while standardization is usully done using *StandardScaler*, *RobustScaler*, or *MinMaxScaler* of the sklearn library."
   ]
  },
  {
   "cell_type": "code",
   "execution_count": 95,
   "id": "ba67150e-6720-4d79-b633-d926867aa0fa",
   "metadata": {},
   "outputs": [],
   "source": [
    "# Calculate the mean of each column\n",
    "mean_salary = df['Salary'].mean()\n",
    "mean_expense = df['Expenses'].mean()\n",
    "\n",
    "# Calculate the standard deviation of each column\n",
    "std_salary = df['Salary'].std()\n",
    "std_expense = df['Expenses'].std()\n",
    "\n",
    "# Standardize the columns and rename them\n",
    "df['Salary Standardized'] = (df['Salary'] - mean_salary) / std_salary\n",
    "df['Expenses Standardized'] = (df['Expenses'] - mean_expense) / std_expense\n",
    "\n",
    "standardized_data = df[['Salary Standardized', 'Expenses Standardized']].to_numpy()"
   ]
  },
  {
   "cell_type": "code",
   "execution_count": 97,
   "id": "05e0ffe7-c9ad-4a00-bcbc-1167084ddebb",
   "metadata": {},
   "outputs": [
    {
     "data": {
      "text/html": [
       "<div>\n",
       "<style scoped>\n",
       "    .dataframe tbody tr th:only-of-type {\n",
       "        vertical-align: middle;\n",
       "    }\n",
       "\n",
       "    .dataframe tbody tr th {\n",
       "        vertical-align: top;\n",
       "    }\n",
       "\n",
       "    .dataframe thead th {\n",
       "        text-align: right;\n",
       "    }\n",
       "</style>\n",
       "<table border=\"1\" class=\"dataframe\">\n",
       "  <thead>\n",
       "    <tr style=\"text-align: right;\">\n",
       "      <th></th>\n",
       "      <th>Salary</th>\n",
       "      <th>Expenses</th>\n",
       "      <th>Salary Standardized</th>\n",
       "      <th>Expenses Standardized</th>\n",
       "    </tr>\n",
       "  </thead>\n",
       "  <tbody>\n",
       "    <tr>\n",
       "      <th>0</th>\n",
       "      <td>1000</td>\n",
       "      <td>500</td>\n",
       "      <td>-1.140965</td>\n",
       "      <td>-1.366725</td>\n",
       "    </tr>\n",
       "    <tr>\n",
       "      <th>1</th>\n",
       "      <td>2000</td>\n",
       "      <td>800</td>\n",
       "      <td>-0.738272</td>\n",
       "      <td>-0.831920</td>\n",
       "    </tr>\n",
       "    <tr>\n",
       "      <th>2</th>\n",
       "      <td>3000</td>\n",
       "      <td>1100</td>\n",
       "      <td>-0.335578</td>\n",
       "      <td>-0.297114</td>\n",
       "    </tr>\n",
       "    <tr>\n",
       "      <th>3</th>\n",
       "      <td>4000</td>\n",
       "      <td>1500</td>\n",
       "      <td>0.067116</td>\n",
       "      <td>0.415960</td>\n",
       "    </tr>\n",
       "    <tr>\n",
       "      <th>4</th>\n",
       "      <td>5000</td>\n",
       "      <td>1800</td>\n",
       "      <td>0.469809</td>\n",
       "      <td>0.950765</td>\n",
       "    </tr>\n",
       "    <tr>\n",
       "      <th>5</th>\n",
       "      <td>8000</td>\n",
       "      <td>1900</td>\n",
       "      <td>1.677890</td>\n",
       "      <td>1.129034</td>\n",
       "    </tr>\n",
       "  </tbody>\n",
       "</table>\n",
       "</div>"
      ],
      "text/plain": [
       "   Salary  Expenses  Salary Standardized  Expenses Standardized\n",
       "0    1000       500            -1.140965              -1.366725\n",
       "1    2000       800            -0.738272              -0.831920\n",
       "2    3000      1100            -0.335578              -0.297114\n",
       "3    4000      1500             0.067116               0.415960\n",
       "4    5000      1800             0.469809               0.950765\n",
       "5    8000      1900             1.677890               1.129034"
      ]
     },
     "execution_count": 97,
     "metadata": {},
     "output_type": "execute_result"
    }
   ],
   "source": [
    "df"
   ]
  },
  {
   "cell_type": "markdown",
   "id": "dff98e88-574b-4c12-9f61-d451fd4f9e7c",
   "metadata": {},
   "source": [
    "Let's visualise the standartized data which is centered around the center now:"
   ]
  },
  {
   "cell_type": "code",
   "execution_count": 79,
   "id": "9a6f1011-2b7c-41b8-aa41-8cf795a0ac23",
   "metadata": {},
   "outputs": [
    {
     "data": {
      "image/png": "[encoded data removed]",
      "text/plain": [
       "<Figure size 640x480 with 1 Axes>"
      ]
     },
     "metadata": {},
     "output_type": "display_data"
    }
   ],
   "source": [
    "# Create a scatter plot of the standardized data\n",
    "plt.scatter(df['Salary Standardized'], df['Expenses Standardized'])\n",
    "\n",
    "# Plot the main axes\n",
    "plt.axhline(0, color='black', linewidth=0.5) \n",
    "plt.axvline(0, color='black', linewidth=0.5) \n",
    "\n",
    "plt.title(\"Standardized Salary vs Expenses\")\n",
    "plt.xlabel('Salary Standardized')\n",
    "plt.ylabel('Expenses Standardized')\n",
    "plt.show()\n"
   ]
  },
  {
   "cell_type": "markdown",
   "id": "199366ce-fa9d-4663-94a8-b459d63805f2",
   "metadata": {},
   "source": [
    "### 2. Computation of Covariance Matrix\n",
    "\n",
    "The **Covariance Matrix** is a square matrix  that displays the variance exhibited by elements of datasets and the covariance between a pair of datasets. It is also known as the **variance-covariance matrix** because the variance of each element is represented along the matrix’s major diagonal and the covariance is represented among the non-diagonal elements. **Variance** is a measure of dispersion and can be defined as the spread of data from the mean of the given dataset. **Covariance** is calculated between two variables and is used to measure how the two variables vary together[[5](https://www.cuemath.com/algebra/covariance-matrix/)][[6](https://www.geeksforgeeks.org/covariance-matrix/)].\n",
    "\n",
    "For two variables $x$ and $y$, the covariance matrix $\\sum$ is:\n",
    "\n",
    "$$ \\sum = \\begin{bmatrix}\n",
    "\\text{Var}(x) & \\text{Cov}(x, y) \\\\\n",
    "\\text{Cov}(y, x) & \\text{Var}(y)\n",
    "\\end{bmatrix} $$\n",
    "\n",
    "Here are the formulas for variance and covariance:\n",
    "\n",
    "$$ \\text{Var}(x) = \\sum_{i=1}^n \\frac{(x_i -\\bar{x)^2}{n - 1} $$\n",
    "\n",
    "$$ \\text{Cov}(x, y) = \\sum_{i=1}^n \\frac{(x_i - \\bar{x})(y_i - \\bar{y})}{n - 1}$$ \n",
    "\n",
    "We will use *NumPy* to make those calculations:"
   ]
  },
  {
   "cell_type": "code",
   "execution_count": 113,
   "id": "c4033093-a18c-4229-ad63-27080bfc017e",
   "metadata": {},
   "outputs": [
    {
     "name": "stdout",
     "output_type": "stream",
     "text": [
      "Covariance Matrix:\n",
      "[[1.         0.92845287]\n",
      " [0.92845287 1.        ]]\n"
     ]
    }
   ],
   "source": [
    "# Compute the covariance matrix\n",
    "cov_matrix = np.cov(standardized_data[:,0], standardized_data[:,1])\n",
    "print(\"Covariance Matrix:\")\n",
    "print(cov_matrix)"
   ]
  },
  {
   "cell_type": "code",
   "execution_count": 108,
   "id": "48c22be3-8f87-46a6-a4e1-98a41360a882",
   "metadata": {},
   "outputs": [
    {
     "data": {
      "text/plain": [
       "array([[-1.14096529, -1.36672523],\n",
       "       [-0.73827166, -0.8319197 ],\n",
       "       [-0.33557803, -0.29711418],\n",
       "       [ 0.06711561,  0.41595985],\n",
       "       [ 0.46980924,  0.95076538],\n",
       "       [ 1.67789014,  1.12903389]])"
      ]
     },
     "execution_count": 108,
     "metadata": {},
     "output_type": "execute_result"
    }
   ],
   "source": [
    "standardized_data"
   ]
  },
  {
   "cell_type": "markdown",
   "id": "288d5cea-8b9c-4092-8462-95900d109a14",
   "metadata": {},
   "source": [
    "|                       | Salary Standardized | Expenses Standardized |\r\n",
    "|-----------------------|:-------------------:|:---------------------:|\r\n",
    "| Salary Standardized   |          1          |       0.92845287      |\r\n",
    "| Expenses Standardized |      0.92845287     |           1           |\\end{table}"
   ]
  },
  {
   "cell_type": "markdown",
   "id": "f49dd585-1d3d-41b5-b827-429c96c887f2",
   "metadata": {},
   "source": [
    "Even though the variances on the diagonal are all 1 (due to standardization), the off-diagonal elements of the covariance matrix still represent the covariance between the pair of variables."
   ]
  },
  {
   "cell_type": "markdown",
   "id": "383cf20d-2eb9-48a2-9fea-4b7812616019",
   "metadata": {},
   "source": [
    "### 3. Calculation of Eigenvectors and Eigenvalues\n",
    "\n",
    "The **eigenvectors** of a linear transformation are those vectors that remain pointed in the **same directions** and occupy the **same span** after the transformation. For these vectors, the effect of the transform matrix is just scalar multiplication. For each eigenvector, the **eigenvalue** is the **scalar** that the eigenvector is scaled by under the transformation. The eigenvalues therefore represent the spread of the data in the direction of the eigenvectors. \n",
    "\n",
    "Dimensionality reduction by means of PCA is accomplished by projecting the data onto the largest eigenvectors of its covariance matrix. The **principal components88 are obtained by the **eigendecomposition of the covariance matrix** of our data. The dimensionality is then reduced by projecting the data onto the largest eigenvectors.\n",
    "\n",
    "If we have a 2 x 2 matrix $A$, we are going to have 2 eigenvalues ($\\lambda_1, \\lambda_2$), obtained by solving the equation given in the expression below:\n",
    "\n",
    "$$|A - \\lambda I| = 0 $$\n",
    "\n",
    "Where $I$ is the identity matrix, with a size corresponding to $A$.\n",
    "\n",
    "The corresponding eigenvectors ($e_1, e_2$) for each eigenvalue are obtained by the following expression[[6](https://towardsdatascience.com/eigen-intuitions-understanding-eigenvectors-and-eigenvalues-630e9ef1f719)][[7](https://online.stat.psu.edu/stat505/lesson/4/4.5)][[8](https://www.visiondummy.com/2014/05/feature-extraction-using-pca/)]:\n",
    "\n",
    "$$(A - \\lambda I)e = 0 $$\n",
    "\n",
    "\n",
    "Let's compute the eigenvalues and eigenvectors for our demo using *NumPy*:"
   ]
  },
  {
   "cell_type": "code",
   "execution_count": 118,
   "id": "e5114dee-590e-4aca-a85c-998afac37a51",
   "metadata": {},
   "outputs": [
    {
     "name": "stdout",
     "output_type": "stream",
     "text": [
      "\n",
      "Eigenvalues:\n",
      "[1.92845287 0.07154713]\n",
      "\n",
      "Eigenvectors:\n",
      "[[ 0.70710678 -0.70710678]\n",
      " [ 0.70710678  0.70710678]]\n"
     ]
    }
   ],
   "source": [
    "# Calculate eigenvalues and eigenvectors\n",
    "cov_matrix = np.array([[1.0, 0.92845287],\n",
    "[0.92845287, 1.0]])\n",
    "eigenvalues, eigenvectors = np.linalg.eig(cov_matrix)\n",
    "\n",
    "print(\"\\nEigenvalues:\")\n",
    "print(eigenvalues)\n",
    "\n",
    "print(\"\\nEigenvectors:\")\n",
    "print(eigenvectors)"
   ]
  },
  {
   "cell_type": "markdown",
   "id": "b7abc02f-dd30-4cc3-950c-8c5ddc78a387",
   "metadata": {},
   "source": [
    "Now let's have the same plot with our data this time with both eigenvectors."
   ]
  },
  {
   "cell_type": "code",
   "execution_count": 120,
   "id": "8d8e00e8-c808-4599-8c17-dca6273ebe92",
   "metadata": {},
   "outputs": [
    {
     "data": {
      "image/png": "[encoded data removed]",
      "text/plain": [
       "<Figure size 640x480 with 1 Axes>"
      ]
     },
     "metadata": {},
     "output_type": "display_data"
    }
   ],
   "source": [
    "# Create a scatter plot of the standardized data\n",
    "plt.scatter(df['Salary Standardized'], df['Expenses Standardized'])\n",
    "\n",
    "# Plot the main axes\n",
    "plt.axhline(0, color='black', linewidth=0.5) \n",
    "plt.axvline(0, color='black', linewidth=0.5) \n",
    "plt.quiver(0.70710678, 0.70710678, color=['r'], scale=3, scale_units='xy')\n",
    "plt.quiver(-0.70710678, 0.70710678, color=['r'], scale=3, scale_units='xy')\n",
    "plt.title(\"Standardized Salary vs Expenses with eigenvectors\")\n",
    "plt.xlabel('Salary Standardized')\n",
    "plt.ylabel('Expenses Standardized')\n",
    "plt.show()\n"
   ]
  },
  {
   "cell_type": "markdown",
   "id": "a40d9c87-8d62-47d0-8d15-f7c7f837672b",
   "metadata": {},
   "source": [
    "### 4. Selection of number of Principal Components"
   ]
  },
  {
   "cell_type": "markdown",
   "id": "92b8ddd1-4f1a-4837-a721-98faf09d330d",
   "metadata": {},
   "source": [
    "The different columns of the eigenvector matrix depict different eigenvectors. We will choose an eigenvector corresponding to the highest eigenvalue and that will be our **first principal component**. PCA  assumes that the most interesting feature is the one with the largest variance or spread. This assumption is based on an information theoretic point of view, since the dimension with the largest variance corresponds to the dimension with the largest entropy and thus encodes the most information. The smallest eigenvectors will often simply represent noise components, whereas the largest eigenvectors often correspond to the principal components that define the data.\n",
    "https://www.visiondummy.com/2014/05/feature-extraction-using-pca/\n",
    "\n",
    "\n",
    "\n",
    "The eigenvectors can be used as weights for the linear combination. The weights for the first principal component correspond to the first eigenvector.\n",
    "\n"
   ]
  },
  {
   "cell_type": "code",
   "execution_count": 124,
   "id": "d174e82c-6dd2-4779-aac0-71f7f2d4d341",
   "metadata": {},
   "outputs": [
    {
     "name": "stdout",
     "output_type": "stream",
     "text": [
      "Total variance explained by first principal component is 0.96\n",
      "Total variance explained by second principal component is 0.04\n"
     ]
    }
   ],
   "source": [
    "var_exp_1 = print('Total variance explained by first principal component is',round(eigenvalues[0]/eigenvalues.sum(),2))\n",
    "var_exp_2 = print('Total variance explained by second principal component is',round(eigenvalues[1]/eigenvalues.sum(),2))"
   ]
  },
  {
   "cell_type": "markdown",
   "id": "4fdaaffc-2b1e-486c-bda6-8a6145cd1617",
   "metadata": {},
   "source": [
    "\n",
    "\n",
    "Now with the help of the above feature vector, we will project the data from the original axes into principal component axes. We will multiply the feature vector with original standardized data and obtain new transformed features."
   ]
  },
  {
   "cell_type": "code",
   "execution_count": 126,
   "id": "d5246162-bd71-4114-9747-956dbccb8c8e",
   "metadata": {},
   "outputs": [
    {
     "name": "stdout",
     "output_type": "stream",
     "text": [
      "[-1.77320497 -1.11029296 -0.44738095  0.34158593  1.00449794  1.98479501]\n"
     ]
    }
   ],
   "source": [
    "#multiply the original data with the eigen vector\n",
    "final_data = np.dot(standardized_data, np.array(eigenvectors[1]))\n",
    "print(final_data)"
   ]
  },
  {
   "cell_type": "code",
   "execution_count": 123,
   "id": "8a6dc390-417e-4ab2-8840-a371a5903bf9",
   "metadata": {},
   "outputs": [
    {
     "name": "stdout",
     "output_type": "stream",
     "text": [
      "Varaince explained by principal component is n [0.96422644]\n",
      "[[-1.77320497]\n",
      " [-1.11029296]\n",
      " [-0.44738095]\n",
      " [ 0.34158593]\n",
      " [ 1.00449794]\n",
      " [ 1.98479501]]\n"
     ]
    }
   ],
   "source": [
    "pca = PCA(n_components = 1)\n",
    "pca.fit(standardized_data)\n",
    "print(\"Varaince explained by principal component is n\", pca.explained_variance_ratio_)\n",
    "print(pca.transform(standardized_data))"
   ]
  },
  {
   "cell_type": "code",
   "execution_count": 11,
   "id": "48b4a332-3ca3-4971-9668-063596c8dcb4",
   "metadata": {},
   "outputs": [
    {
     "data": {
      "text/html": [
       "<div>\n",
       "<style scoped>\n",
       "    .dataframe tbody tr th:only-of-type {\n",
       "        vertical-align: middle;\n",
       "    }\n",
       "\n",
       "    .dataframe tbody tr th {\n",
       "        vertical-align: top;\n",
       "    }\n",
       "\n",
       "    .dataframe thead th {\n",
       "        text-align: right;\n",
       "    }\n",
       "</style>\n",
       "<table border=\"1\" class=\"dataframe\">\n",
       "  <thead>\n",
       "    <tr style=\"text-align: right;\">\n",
       "      <th></th>\n",
       "      <th>sepal length (cm)</th>\n",
       "      <th>sepal width (cm)</th>\n",
       "      <th>petal length (cm)</th>\n",
       "      <th>petal width (cm)</th>\n",
       "      <th>class</th>\n",
       "    </tr>\n",
       "  </thead>\n",
       "  <tbody>\n",
       "    <tr>\n",
       "      <th>0</th>\n",
       "      <td>5.1</td>\n",
       "      <td>3.5</td>\n",
       "      <td>1.4</td>\n",
       "      <td>0.2</td>\n",
       "      <td>0</td>\n",
       "    </tr>\n",
       "    <tr>\n",
       "      <th>1</th>\n",
       "      <td>4.9</td>\n",
       "      <td>3.0</td>\n",
       "      <td>1.4</td>\n",
       "      <td>0.2</td>\n",
       "      <td>0</td>\n",
       "    </tr>\n",
       "    <tr>\n",
       "      <th>2</th>\n",
       "      <td>4.7</td>\n",
       "      <td>3.2</td>\n",
       "      <td>1.3</td>\n",
       "      <td>0.2</td>\n",
       "      <td>0</td>\n",
       "    </tr>\n",
       "    <tr>\n",
       "      <th>3</th>\n",
       "      <td>4.6</td>\n",
       "      <td>3.1</td>\n",
       "      <td>1.5</td>\n",
       "      <td>0.2</td>\n",
       "      <td>0</td>\n",
       "    </tr>\n",
       "    <tr>\n",
       "      <th>4</th>\n",
       "      <td>5.0</td>\n",
       "      <td>3.6</td>\n",
       "      <td>1.4</td>\n",
       "      <td>0.2</td>\n",
       "      <td>0</td>\n",
       "    </tr>\n",
       "    <tr>\n",
       "      <th>...</th>\n",
       "      <td>...</td>\n",
       "      <td>...</td>\n",
       "      <td>...</td>\n",
       "      <td>...</td>\n",
       "      <td>...</td>\n",
       "    </tr>\n",
       "    <tr>\n",
       "      <th>145</th>\n",
       "      <td>6.7</td>\n",
       "      <td>3.0</td>\n",
       "      <td>5.2</td>\n",
       "      <td>2.3</td>\n",
       "      <td>2</td>\n",
       "    </tr>\n",
       "    <tr>\n",
       "      <th>146</th>\n",
       "      <td>6.3</td>\n",
       "      <td>2.5</td>\n",
       "      <td>5.0</td>\n",
       "      <td>1.9</td>\n",
       "      <td>2</td>\n",
       "    </tr>\n",
       "    <tr>\n",
       "      <th>147</th>\n",
       "      <td>6.5</td>\n",
       "      <td>3.0</td>\n",
       "      <td>5.2</td>\n",
       "      <td>2.0</td>\n",
       "      <td>2</td>\n",
       "    </tr>\n",
       "    <tr>\n",
       "      <th>148</th>\n",
       "      <td>6.2</td>\n",
       "      <td>3.4</td>\n",
       "      <td>5.4</td>\n",
       "      <td>2.3</td>\n",
       "      <td>2</td>\n",
       "    </tr>\n",
       "    <tr>\n",
       "      <th>149</th>\n",
       "      <td>5.9</td>\n",
       "      <td>3.0</td>\n",
       "      <td>5.1</td>\n",
       "      <td>1.8</td>\n",
       "      <td>2</td>\n",
       "    </tr>\n",
       "  </tbody>\n",
       "</table>\n",
       "<p>150 rows × 5 columns</p>\n",
       "</div>"
      ],
      "text/plain": [
       "     sepal length (cm)  sepal width (cm)  petal length (cm)  petal width (cm)  \\\n",
       "0                  5.1               3.5                1.4               0.2   \n",
       "1                  4.9               3.0                1.4               0.2   \n",
       "2                  4.7               3.2                1.3               0.2   \n",
       "3                  4.6               3.1                1.5               0.2   \n",
       "4                  5.0               3.6                1.4               0.2   \n",
       "..                 ...               ...                ...               ...   \n",
       "145                6.7               3.0                5.2               2.3   \n",
       "146                6.3               2.5                5.0               1.9   \n",
       "147                6.5               3.0                5.2               2.0   \n",
       "148                6.2               3.4                5.4               2.3   \n",
       "149                5.9               3.0                5.1               1.8   \n",
       "\n",
       "     class  \n",
       "0        0  \n",
       "1        0  \n",
       "2        0  \n",
       "3        0  \n",
       "4        0  \n",
       "..     ...  \n",
       "145      2  \n",
       "146      2  \n",
       "147      2  \n",
       "148      2  \n",
       "149      2  \n",
       "\n",
       "[150 rows x 5 columns]"
      ]
     },
     "execution_count": 11,
     "metadata": {},
     "output_type": "execute_result"
    }
   ],
   "source": [
    "import pandas as pd\n",
    "import numpy as np\n",
    "\n",
    "import matplotlib.pyplot as plt\n",
    "from sklearn.datasets import load_iris\n",
    "from sklearn.preprocessing import StandardScaler\n",
    "\n",
    "# Load the iris dataset\n",
    "iris = load_iris()\n",
    "\n",
    "# Create a DataFrame from the iris data\n",
    "df = pd.DataFrame(data=iris.data, columns=iris.feature_names)\n",
    "\n",
    "# Add the class column to the DataFrame\n",
    "df['class'] = iris.target\n",
    "\n",
    "# Display the DataFrame\n",
    "df"
   ]
  },
  {
   "cell_type": "code",
   "execution_count": 5,
   "id": "e2827084-22c6-4664-93a4-730da5b92043",
   "metadata": {},
   "outputs": [],
   "source": [
    "x = df.drop(labels='class', axis=1).values\n",
    "y = df['class'].values"
   ]
  },
  {
   "cell_type": "code",
   "execution_count": 12,
   "id": "223e0d7c-94bb-4046-ba75-a4185a27db9e",
   "metadata": {},
   "outputs": [
    {
     "data": {
      "text/plain": [
       "<matplotlib.collections.PathCollection at 0x24f92d6ddd0>"
      ]
     },
     "execution_count": 12,
     "metadata": {},
     "output_type": "execute_result"
    },
    {
     "data": {
      "image/png": "[encoded data removed]",
      "text/plain": [
       "<Figure size 640x480 with 1 Axes>"
      ]
     },
     "metadata": {},
     "output_type": "display_data"
    }
   ],
   "source": [
    "class convers_pca():\n",
    "    def __init__(self, no_of_components):\n",
    "        self.no_of_components = no_of_components\n",
    "        self.eigen_values = None\n",
    "        self.eigen_vectors = None\n",
    "        \n",
    "    def transform(self, x):\n",
    "        return np.dot(x - self.mean, self.projection_matrix.T)\n",
    "    \n",
    "    def inverse_transform(self, x):\n",
    "        return np.dot(x, self.projection_matrix) + self.mean\n",
    "    \n",
    "    def fit(self, x):\n",
    "        self.no_of_components = x.shape[1] if self.no_of_components is None else self.no_of_components\n",
    "        self.mean = np.mean(x, axis=0)\n",
    "        \n",
    "        cov_matrix = np.cov(x - self.mean, rowvar=False)\n",
    "        \n",
    "        self.eigen_values, self.eigen_vectors = np.linalg.eig(cov_matrix)\n",
    "        self.eigen_vectors = self.eigen_vectors.T\n",
    "        \n",
    "        self.sorted_components = np.argsort(self.eigen_values)[::-1]\n",
    "        \n",
    "        self.projection_matrix = self.eigen_vectors[self.sorted_components[:self.no_of_components]]\n",
    "        self.explained_variance = self.eigen_values[self.sorted_components]\n",
    "        self.explained_variance_ratio = self.explained_variance / self.eigen_values.sum()\n",
    "\n",
    "std = StandardScaler()\n",
    "transformed = StandardScaler().fit_transform(x)\n",
    "pca = convers_pca(no_of_components=2)\n",
    "pca.fit(transformed)\n",
    "\n",
    "x_std = pca.transform(transformed)\n",
    "plt.figure()\n",
    "plt.scatter(x_std[:, 0], x_std[:, 1], c=y)"
   ]
  }
 ],
 "metadata": {
  "kernelspec": {
   "display_name": "Python 3 (ipykernel)",
   "language": "python",
   "name": "python3"
  },
  "language_info": {
   "codemirror_mode": {
    "name": "ipython",
    "version": 3
   },
   "file_extension": ".py",
   "mimetype": "text/x-python",
   "name": "python",
   "nbconvert_exporter": "python",
   "pygments_lexer": "ipython3",
   "version": "3.11.7"
  }
 },
 "nbformat": 4,
 "nbformat_minor": 5
}
