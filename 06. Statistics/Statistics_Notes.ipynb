{
 "cells": [
  {
   "cell_type": "code",
   "execution_count": 2,
   "id": "28a138ba-d8e3-4d4c-b21f-310ffc8895ff",
   "metadata": {},
   "outputs": [],
   "source": [
    "%matplotlib inline"
   ]
  },
  {
   "cell_type": "code",
   "execution_count": 47,
   "id": "b7e6e1b4-6735-4e83-bac0-0a42bb52aad9",
   "metadata": {},
   "outputs": [],
   "source": [
    "import numpy as np\n",
    "import pandas as pd\n",
    "import matplotlib.pyplot as plt\n",
    "from sklearn.datasets import load_diabetes"
   ]
  },
  {
   "cell_type": "markdown",
   "id": "411c6f70-cbe3-4d61-9661-c1698b8ab0c6",
   "metadata": {},
   "source": [
    "# Statistics\n",
    "\n",
    "It is the science of qualitative and quantitative defining of characteristics of random variables. In other words, we make a large number of observations, take note of what has happened and  ask ourselves to what extent is this surprising or different to our expectations (*hypothesis*).  \n",
    "\n",
    "In probability theory, the **law of large numbers (LLN)** is a mathematical theorem that states that the average of the results obtained from a large number of independent random samples converges to the true value if the latter exists.\n",
    "\n",
    "Descriptive vs inferential statistics \n",
    "\n",
    "All elements that are the result of a random variable are called a **population**. As the number of these elements can be infinite, we can make approximations with as large as possible data.\n",
    "\n",
    "Statistical sampling is drawing a set of observations randomly from a population distribution. A sample refers to a smaller, manageable version of a larger group. It is a subset containing the characteristics of a larger population. Samples are used in statistical testing when population sizes are too large for the test to include all possible members or observations. A sample should represent the population as a whole and not reflect any bias toward a specific attribute. \n",
    "\n",
    "It is not possible to prove that a sample is correct. *\"Absence of evidence is not evidence of absence.\"* It is much easier to prove that a sample has some defects than that it does not.\n",
    "\n",
    "A **sampling frame** is the part of the population that is accessible to us and it is from within that frame that we take our samples. We can have an error when defining this sample (bias). We can have a random (stochastic) error or variance. Unlike the bias, this random error can be determined using a larger sample. \n",
    "\n",
    "Sampling methods:\n",
    "\n",
    "* Random sampling - each element has an equal probability of being selected.\n",
    "* Stratified sampling - we can divide subjects into subgroups called strata based on characteristics that they share (e.g., race, gender, educational attainment). Once divided, each subgroup is randomly sampled using another probability sampling method. It is a good method to make sure that each group gets a proportional representation.\n",
    "* Cluster sampling - we divide a population into clusters, such as districts or schools, and then randomly select some of these clusters as our sample. The clusters should ideally each be mini-representations of the population as a whole.\n",
    "\n",
    "**i.i.d** - a collection of random variables is **independent and identically distributed** if each random variable has the same probability distribution as the others and all are mutually independent.\n",
    "\n",
    "In a dataset that is a table, each column represents a dimension and each entry is a point in a dimension. Each dimension can be interpreted in different ways and it can be transformed. \n",
    "\n",
    "With *pandas* we can drop a column from a dataset, for example, but this will not change the original dataset.\n",
    "\n",
    "NaN = Not A Number, it represents data that is missing.\n",
    "\n",
    "$\\bar{x}$ - this is the arithmetic average (usually it is not a very good metric on its own)\n",
    "\n",
    "$\\mu$ - this is the arithmetic average of the set\n",
    "\n",
    "The **arithmetic mean** is calculated as the sum of the values divided by the total number of values. The **geometric mean** is calculated as the $n^{-th}$ root of the product of all values, where $n$ is the number of values. The **harmonic mean** is calculated as the number of values $n$ divided by the sum of the reciprocal of the values (1 over each value). More details [here](https://machinelearningmastery.com/arithmetic-geometric-and-harmonic-means-for-machine-learning/).\n",
    "\n",
    "In mathematics, the QM-AM-GM-HM inequalities, also known as the mean inequality chain, state the relationship between the harmonic mean, geometric mean, arithmetic mean, and quadratic mean (also known as root mean square). Suppose that $x_1, x_2, x_3 \\dots x_n$ are positive real numbers. Then $ QM \\geq AM \\geq GM \\geq HM $\n",
    "\n",
    "The **median** is the middle value in a set of data if the data is ordered from smallest to largest. If there are two values in the middle, their average is the median.\n",
    "\n",
    "The **mode** is the value that appears most frequently in a data set. A set of data may have one mode, more than one mode, or no mode at all. If there are two modes in a distribution, it is called a bimodal distribution and this usually means that there is a bias.\n",
    "\n",
    "**Variance** is the measure of how far the set of data is dispersed from their mean value. Variance is represented with the symbol $\\sigma^2$. In other words, we can also say that the variance is the average of the squared difference from the mean. The mathematical formula to find the variance of the given data is:\n",
    "\n",
    "$$ \\sigma^2 = \\sum_{i=1}^n \\frac{(x_i -\\bar{x})^2}{n}$$\n",
    "\n",
    "where:\n",
    "\n",
    "$\\sigma^2$ is the variance of the population\n",
    "\n",
    "$n$ is the number of observation in the population\n",
    "\n",
    "$x_i$ is the $i^{th}$ observation in the population, and \n",
    "\n",
    "$\\bar{x}$ is the mean of the population.\n",
    "\n",
    "The **standard deviation** measures how far our given set of data varies along with the mean of the data. Thus, we define standard deviation as the “spread of the statistical data from the mean or average position”. We denote the standard deviation of the data using the symbol $\\sigma$. We can also define the standard deviation as **the square root of the variance**. The standard deviation is a non-negative quantity i.e. it always has positive values or zero values. If all the values in a data set are similar then the standard deviation has a value close to zero. Whereas if the values in a data set are very different from each other then standard deviation has a high positive value.\n",
    "\r\n",
    "The **moments of a function** are certain quantitative measures related to the shape of the function's graph. If the function is a probability distribution, then the first moment is the expected value (**mean**), the second central moment is the **variance**, the third standardized moment is the **skewness**, and the fourth standardized moment is the **kurtosis**. A distribution that has most of its values close to its center is called **leptokurtic**, while the one that has most of its values away from the center is called **platokurtic**. The kurtosis in the normal distribution is 0. If it is larger than 0 then the distribution is more narrow. \n",
    "\r",
    "**Quartiles** are three values that split sorted data into four parts, each with an equal number of observations. Quartiles are a type of quantile.The fFirst quartil is aAlso known as Q1, or the lower quartile.The sSecond quartil, aAlso known as Q2, or the media and the  Third quartie, aAlso known as Q3, or the upper quartiel.\n",
    "\n",
    "_**NOTE**_: *There is more theory at the end of the document*\n",
    "\n"
   ]
  },
  {
   "cell_type": "code",
   "execution_count": 4,
   "id": "35a3c2fa-6604-404e-957b-81644e476da2",
   "metadata": {},
   "outputs": [],
   "source": [
    "netflix_titles = pd.read_csv(\"netflix_titles.csv\")"
   ]
  },
  {
   "cell_type": "code",
   "execution_count": 5,
   "id": "015ca5e8-147b-47fe-9ff6-cbc5aca729ef",
   "metadata": {},
   "outputs": [
    {
     "data": {
      "text/plain": [
       "pandas.core.frame.DataFrame"
      ]
     },
     "execution_count": 5,
     "metadata": {},
     "output_type": "execute_result"
    }
   ],
   "source": [
    "type(netflix_titles)"
   ]
  },
  {
   "cell_type": "code",
   "execution_count": 6,
   "id": "233f15fa-1c64-45e4-97af-fcec75ea929d",
   "metadata": {},
   "outputs": [
    {
     "data": {
      "text/plain": [
       "(8807, 12)"
      ]
     },
     "execution_count": 6,
     "metadata": {},
     "output_type": "execute_result"
    }
   ],
   "source": [
    "netflix_titles.shape"
   ]
  },
  {
   "cell_type": "code",
   "execution_count": 7,
   "id": "1987074f-2091-4139-addf-c26b85fe0049",
   "metadata": {},
   "outputs": [
    {
     "data": {
      "text/plain": [
       "RangeIndex(start=0, stop=8807, step=1)"
      ]
     },
     "execution_count": 7,
     "metadata": {},
     "output_type": "execute_result"
    }
   ],
   "source": [
    "netflix_titles.index "
   ]
  },
  {
   "cell_type": "code",
   "execution_count": 8,
   "id": "af6416e5-68cb-4de3-95ff-64c99814e613",
   "metadata": {},
   "outputs": [
    {
     "data": {
      "text/plain": [
       "Index(['show_id', 'type', 'title', 'director', 'cast', 'country', 'date_added',\n",
       "       'release_year', 'rating', 'duration', 'listed_in', 'description'],\n",
       "      dtype='object')"
      ]
     },
     "execution_count": 8,
     "metadata": {},
     "output_type": "execute_result"
    }
   ],
   "source": [
    "netflix_titles.columns"
   ]
  },
  {
   "cell_type": "code",
   "execution_count": 9,
   "id": "d2d28ca3-3700-44f9-af09-6d3457533215",
   "metadata": {},
   "outputs": [
    {
     "data": {
      "text/html": [
       "<div>\n",
       "<style scoped>\n",
       "    .dataframe tbody tr th:only-of-type {\n",
       "        vertical-align: middle;\n",
       "    }\n",
       "\n",
       "    .dataframe tbody tr th {\n",
       "        vertical-align: top;\n",
       "    }\n",
       "\n",
       "    .dataframe thead th {\n",
       "        text-align: right;\n",
       "    }\n",
       "</style>\n",
       "<table border=\"1\" class=\"dataframe\">\n",
       "  <thead>\n",
       "    <tr style=\"text-align: right;\">\n",
       "      <th></th>\n",
       "      <th>type</th>\n",
       "      <th>title</th>\n",
       "      <th>director</th>\n",
       "      <th>cast</th>\n",
       "      <th>country</th>\n",
       "      <th>date_added</th>\n",
       "      <th>release_year</th>\n",
       "      <th>rating</th>\n",
       "      <th>duration</th>\n",
       "      <th>listed_in</th>\n",
       "      <th>description</th>\n",
       "    </tr>\n",
       "  </thead>\n",
       "  <tbody>\n",
       "    <tr>\n",
       "      <th>0</th>\n",
       "      <td>Movie</td>\n",
       "      <td>Dick Johnson Is Dead</td>\n",
       "      <td>Kirsten Johnson</td>\n",
       "      <td>NaN</td>\n",
       "      <td>United States</td>\n",
       "      <td>September 25, 2021</td>\n",
       "      <td>2020</td>\n",
       "      <td>PG-13</td>\n",
       "      <td>90 min</td>\n",
       "      <td>Documentaries</td>\n",
       "      <td>As her father nears the end of his life, filmm...</td>\n",
       "    </tr>\n",
       "    <tr>\n",
       "      <th>1</th>\n",
       "      <td>TV Show</td>\n",
       "      <td>Blood &amp; Water</td>\n",
       "      <td>NaN</td>\n",
       "      <td>Ama Qamata, Khosi Ngema, Gail Mabalane, Thaban...</td>\n",
       "      <td>South Africa</td>\n",
       "      <td>September 24, 2021</td>\n",
       "      <td>2021</td>\n",
       "      <td>TV-MA</td>\n",
       "      <td>2 Seasons</td>\n",
       "      <td>International TV Shows, TV Dramas, TV Mysteries</td>\n",
       "      <td>After crossing paths at a party, a Cape Town t...</td>\n",
       "    </tr>\n",
       "    <tr>\n",
       "      <th>2</th>\n",
       "      <td>TV Show</td>\n",
       "      <td>Ganglands</td>\n",
       "      <td>Julien Leclercq</td>\n",
       "      <td>Sami Bouajila, Tracy Gotoas, Samuel Jouy, Nabi...</td>\n",
       "      <td>NaN</td>\n",
       "      <td>September 24, 2021</td>\n",
       "      <td>2021</td>\n",
       "      <td>TV-MA</td>\n",
       "      <td>1 Season</td>\n",
       "      <td>Crime TV Shows, International TV Shows, TV Act...</td>\n",
       "      <td>To protect his family from a powerful drug lor...</td>\n",
       "    </tr>\n",
       "    <tr>\n",
       "      <th>3</th>\n",
       "      <td>TV Show</td>\n",
       "      <td>Jailbirds New Orleans</td>\n",
       "      <td>NaN</td>\n",
       "      <td>NaN</td>\n",
       "      <td>NaN</td>\n",
       "      <td>September 24, 2021</td>\n",
       "      <td>2021</td>\n",
       "      <td>TV-MA</td>\n",
       "      <td>1 Season</td>\n",
       "      <td>Docuseries, Reality TV</td>\n",
       "      <td>Feuds, flirtations and toilet talk go down amo...</td>\n",
       "    </tr>\n",
       "    <tr>\n",
       "      <th>4</th>\n",
       "      <td>TV Show</td>\n",
       "      <td>Kota Factory</td>\n",
       "      <td>NaN</td>\n",
       "      <td>Mayur More, Jitendra Kumar, Ranjan Raj, Alam K...</td>\n",
       "      <td>India</td>\n",
       "      <td>September 24, 2021</td>\n",
       "      <td>2021</td>\n",
       "      <td>TV-MA</td>\n",
       "      <td>2 Seasons</td>\n",
       "      <td>International TV Shows, Romantic TV Shows, TV ...</td>\n",
       "      <td>In a city of coaching centers known to train I...</td>\n",
       "    </tr>\n",
       "    <tr>\n",
       "      <th>...</th>\n",
       "      <td>...</td>\n",
       "      <td>...</td>\n",
       "      <td>...</td>\n",
       "      <td>...</td>\n",
       "      <td>...</td>\n",
       "      <td>...</td>\n",
       "      <td>...</td>\n",
       "      <td>...</td>\n",
       "      <td>...</td>\n",
       "      <td>...</td>\n",
       "      <td>...</td>\n",
       "    </tr>\n",
       "    <tr>\n",
       "      <th>8802</th>\n",
       "      <td>Movie</td>\n",
       "      <td>Zodiac</td>\n",
       "      <td>David Fincher</td>\n",
       "      <td>Mark Ruffalo, Jake Gyllenhaal, Robert Downey J...</td>\n",
       "      <td>United States</td>\n",
       "      <td>November 20, 2019</td>\n",
       "      <td>2007</td>\n",
       "      <td>R</td>\n",
       "      <td>158 min</td>\n",
       "      <td>Cult Movies, Dramas, Thrillers</td>\n",
       "      <td>A political cartoonist, a crime reporter and a...</td>\n",
       "    </tr>\n",
       "    <tr>\n",
       "      <th>8803</th>\n",
       "      <td>TV Show</td>\n",
       "      <td>Zombie Dumb</td>\n",
       "      <td>NaN</td>\n",
       "      <td>NaN</td>\n",
       "      <td>NaN</td>\n",
       "      <td>July 1, 2019</td>\n",
       "      <td>2018</td>\n",
       "      <td>TV-Y7</td>\n",
       "      <td>2 Seasons</td>\n",
       "      <td>Kids' TV, Korean TV Shows, TV Comedies</td>\n",
       "      <td>While living alone in a spooky town, a young g...</td>\n",
       "    </tr>\n",
       "    <tr>\n",
       "      <th>8804</th>\n",
       "      <td>Movie</td>\n",
       "      <td>Zombieland</td>\n",
       "      <td>Ruben Fleischer</td>\n",
       "      <td>Jesse Eisenberg, Woody Harrelson, Emma Stone, ...</td>\n",
       "      <td>United States</td>\n",
       "      <td>November 1, 2019</td>\n",
       "      <td>2009</td>\n",
       "      <td>R</td>\n",
       "      <td>88 min</td>\n",
       "      <td>Comedies, Horror Movies</td>\n",
       "      <td>Looking to survive in a world taken over by zo...</td>\n",
       "    </tr>\n",
       "    <tr>\n",
       "      <th>8805</th>\n",
       "      <td>Movie</td>\n",
       "      <td>Zoom</td>\n",
       "      <td>Peter Hewitt</td>\n",
       "      <td>Tim Allen, Courteney Cox, Chevy Chase, Kate Ma...</td>\n",
       "      <td>United States</td>\n",
       "      <td>January 11, 2020</td>\n",
       "      <td>2006</td>\n",
       "      <td>PG</td>\n",
       "      <td>88 min</td>\n",
       "      <td>Children &amp; Family Movies, Comedies</td>\n",
       "      <td>Dragged from civilian life, a former superhero...</td>\n",
       "    </tr>\n",
       "    <tr>\n",
       "      <th>8806</th>\n",
       "      <td>Movie</td>\n",
       "      <td>Zubaan</td>\n",
       "      <td>Mozez Singh</td>\n",
       "      <td>Vicky Kaushal, Sarah-Jane Dias, Raaghav Chanan...</td>\n",
       "      <td>India</td>\n",
       "      <td>March 2, 2019</td>\n",
       "      <td>2015</td>\n",
       "      <td>TV-14</td>\n",
       "      <td>111 min</td>\n",
       "      <td>Dramas, International Movies, Music &amp; Musicals</td>\n",
       "      <td>A scrappy but poor boy worms his way into a ty...</td>\n",
       "    </tr>\n",
       "  </tbody>\n",
       "</table>\n",
       "<p>8807 rows × 11 columns</p>\n",
       "</div>"
      ],
      "text/plain": [
       "         type                  title         director  \\\n",
       "0       Movie   Dick Johnson Is Dead  Kirsten Johnson   \n",
       "1     TV Show          Blood & Water              NaN   \n",
       "2     TV Show              Ganglands  Julien Leclercq   \n",
       "3     TV Show  Jailbirds New Orleans              NaN   \n",
       "4     TV Show           Kota Factory              NaN   \n",
       "...       ...                    ...              ...   \n",
       "8802    Movie                 Zodiac    David Fincher   \n",
       "8803  TV Show            Zombie Dumb              NaN   \n",
       "8804    Movie             Zombieland  Ruben Fleischer   \n",
       "8805    Movie                   Zoom     Peter Hewitt   \n",
       "8806    Movie                 Zubaan      Mozez Singh   \n",
       "\n",
       "                                                   cast        country  \\\n",
       "0                                                   NaN  United States   \n",
       "1     Ama Qamata, Khosi Ngema, Gail Mabalane, Thaban...   South Africa   \n",
       "2     Sami Bouajila, Tracy Gotoas, Samuel Jouy, Nabi...            NaN   \n",
       "3                                                   NaN            NaN   \n",
       "4     Mayur More, Jitendra Kumar, Ranjan Raj, Alam K...          India   \n",
       "...                                                 ...            ...   \n",
       "8802  Mark Ruffalo, Jake Gyllenhaal, Robert Downey J...  United States   \n",
       "8803                                                NaN            NaN   \n",
       "8804  Jesse Eisenberg, Woody Harrelson, Emma Stone, ...  United States   \n",
       "8805  Tim Allen, Courteney Cox, Chevy Chase, Kate Ma...  United States   \n",
       "8806  Vicky Kaushal, Sarah-Jane Dias, Raaghav Chanan...          India   \n",
       "\n",
       "              date_added  release_year rating   duration  \\\n",
       "0     September 25, 2021          2020  PG-13     90 min   \n",
       "1     September 24, 2021          2021  TV-MA  2 Seasons   \n",
       "2     September 24, 2021          2021  TV-MA   1 Season   \n",
       "3     September 24, 2021          2021  TV-MA   1 Season   \n",
       "4     September 24, 2021          2021  TV-MA  2 Seasons   \n",
       "...                  ...           ...    ...        ...   \n",
       "8802   November 20, 2019          2007      R    158 min   \n",
       "8803        July 1, 2019          2018  TV-Y7  2 Seasons   \n",
       "8804    November 1, 2019          2009      R     88 min   \n",
       "8805    January 11, 2020          2006     PG     88 min   \n",
       "8806       March 2, 2019          2015  TV-14    111 min   \n",
       "\n",
       "                                              listed_in  \\\n",
       "0                                         Documentaries   \n",
       "1       International TV Shows, TV Dramas, TV Mysteries   \n",
       "2     Crime TV Shows, International TV Shows, TV Act...   \n",
       "3                                Docuseries, Reality TV   \n",
       "4     International TV Shows, Romantic TV Shows, TV ...   \n",
       "...                                                 ...   \n",
       "8802                     Cult Movies, Dramas, Thrillers   \n",
       "8803             Kids' TV, Korean TV Shows, TV Comedies   \n",
       "8804                            Comedies, Horror Movies   \n",
       "8805                 Children & Family Movies, Comedies   \n",
       "8806     Dramas, International Movies, Music & Musicals   \n",
       "\n",
       "                                            description  \n",
       "0     As her father nears the end of his life, filmm...  \n",
       "1     After crossing paths at a party, a Cape Town t...  \n",
       "2     To protect his family from a powerful drug lor...  \n",
       "3     Feuds, flirtations and toilet talk go down amo...  \n",
       "4     In a city of coaching centers known to train I...  \n",
       "...                                                 ...  \n",
       "8802  A political cartoonist, a crime reporter and a...  \n",
       "8803  While living alone in a spooky town, a young g...  \n",
       "8804  Looking to survive in a world taken over by zo...  \n",
       "8805  Dragged from civilian life, a former superhero...  \n",
       "8806  A scrappy but poor boy worms his way into a ty...  \n",
       "\n",
       "[8807 rows x 11 columns]"
      ]
     },
     "execution_count": 9,
     "metadata": {},
     "output_type": "execute_result"
    }
   ],
   "source": [
    "netflix_titles.drop(columns = [\"show_id\"])"
   ]
  },
  {
   "cell_type": "code",
   "execution_count": 10,
   "id": "0279304e-44b9-4763-9872-47dddcc09883",
   "metadata": {},
   "outputs": [
    {
     "data": {
      "text/plain": [
       "0       2020\n",
       "1       2021\n",
       "2       2021\n",
       "3       2021\n",
       "4       2021\n",
       "        ... \n",
       "8802    2007\n",
       "8803    2018\n",
       "8804    2009\n",
       "8805    2006\n",
       "8806    2015\n",
       "Name: release_year, Length: 8807, dtype: int64"
      ]
     },
     "execution_count": 10,
     "metadata": {},
     "output_type": "execute_result"
    }
   ],
   "source": [
    "netflix_titles.release_year"
   ]
  },
  {
   "cell_type": "code",
   "execution_count": 11,
   "id": "328f8b7c-4464-4dda-88d4-03dbe6e4d3f8",
   "metadata": {},
   "outputs": [
    {
     "data": {
      "text/plain": [
       "0       2020\n",
       "1       2021\n",
       "2       2021\n",
       "3       2021\n",
       "4       2021\n",
       "        ... \n",
       "8802    2007\n",
       "8803    2018\n",
       "8804    2009\n",
       "8805    2006\n",
       "8806    2015\n",
       "Name: release_year, Length: 8807, dtype: int64"
      ]
     },
     "execution_count": 11,
     "metadata": {},
     "output_type": "execute_result"
    }
   ],
   "source": [
    "netflix_titles[\"release_year\"]"
   ]
  },
  {
   "cell_type": "code",
   "execution_count": 12,
   "id": "bd68f261-c533-42ac-b6cd-3efd7c86d83c",
   "metadata": {},
   "outputs": [
    {
     "data": {
      "text/plain": [
       "(1925, 2021)"
      ]
     },
     "execution_count": 12,
     "metadata": {},
     "output_type": "execute_result"
    }
   ],
   "source": [
    "netflix_titles.release_year.min(), netflix_titles.release_year.max()"
   ]
  },
  {
   "cell_type": "code",
   "execution_count": 13,
   "id": "45e032d4-cfdd-4807-8893-6b32750ddf39",
   "metadata": {},
   "outputs": [
    {
     "data": {
      "image/png": "[encoded data removed]",
      "text/plain": [
       "<Figure size 640x480 with 1 Axes>"
      ]
     },
     "metadata": {},
     "output_type": "display_data"
    }
   ],
   "source": [
    "plt.hist(netflix_titles.release_year, bins = 30)\n",
    "plt.show()"
   ]
  },
  {
   "cell_type": "code",
   "execution_count": 14,
   "id": "84f25366-ab3a-4858-9743-cee6fce6ad09",
   "metadata": {},
   "outputs": [
    {
     "data": {
      "text/plain": [
       "74"
      ]
     },
     "execution_count": 14,
     "metadata": {},
     "output_type": "execute_result"
    }
   ],
   "source": [
    "len(netflix_titles.release_year.unique()) "
   ]
  },
  {
   "cell_type": "code",
   "execution_count": 15,
   "id": "a54d0554-d411-4985-b1bc-e7b21b56ecf9",
   "metadata": {},
   "outputs": [
    {
     "data": {
      "text/plain": [
       "74"
      ]
     },
     "execution_count": 15,
     "metadata": {},
     "output_type": "execute_result"
    }
   ],
   "source": [
    "netflix_titles.release_year.nunique()"
   ]
  },
  {
   "cell_type": "code",
   "execution_count": 16,
   "id": "397af450-c5f8-4d5f-a2cb-8d88174c2ad6",
   "metadata": {},
   "outputs": [
    {
     "data": {
      "image/png": "[encoded data removed]",
      "text/plain": [
       "<Figure size 640x480 with 1 Axes>"
      ]
     },
     "metadata": {},
     "output_type": "display_data"
    }
   ],
   "source": [
    "number_of_years = netflix_titles.release_year.nunique(dropna = False)\n",
    "plt.hist(netflix_titles.release_year, bins = number_of_years)\n",
    "plt.xlabel(\"Release year\")\n",
    "plt.ylabel(\"Number of movies\")\n",
    "plt.show()"
   ]
  },
  {
   "cell_type": "code",
   "execution_count": 17,
   "id": "9aff4fed-c152-49b9-9bc9-b67935156d56",
   "metadata": {},
   "outputs": [
    {
     "data": {
      "text/plain": [
       "0       False\n",
       "1       False\n",
       "2       False\n",
       "3       False\n",
       "4       False\n",
       "        ...  \n",
       "8802    False\n",
       "8803    False\n",
       "8804    False\n",
       "8805    False\n",
       "8806    False\n",
       "Name: release_year, Length: 8807, dtype: bool"
      ]
     },
     "execution_count": 17,
     "metadata": {},
     "output_type": "execute_result"
    }
   ],
   "source": [
    "netflix_titles.release_year == 1960"
   ]
  },
  {
   "cell_type": "code",
   "execution_count": 18,
   "id": "2a220d0f-c4f1-48da-be90-8685668c8a01",
   "metadata": {
    "scrolled": true
   },
   "outputs": [
    {
     "data": {
      "text/html": [
       "<div>\n",
       "<style scoped>\n",
       "    .dataframe tbody tr th:only-of-type {\n",
       "        vertical-align: middle;\n",
       "    }\n",
       "\n",
       "    .dataframe tbody tr th {\n",
       "        vertical-align: top;\n",
       "    }\n",
       "\n",
       "    .dataframe thead th {\n",
       "        text-align: right;\n",
       "    }\n",
       "</style>\n",
       "<table border=\"1\" class=\"dataframe\">\n",
       "  <thead>\n",
       "    <tr style=\"text-align: right;\">\n",
       "      <th></th>\n",
       "      <th>show_id</th>\n",
       "      <th>type</th>\n",
       "      <th>title</th>\n",
       "      <th>director</th>\n",
       "      <th>cast</th>\n",
       "      <th>country</th>\n",
       "      <th>date_added</th>\n",
       "      <th>release_year</th>\n",
       "      <th>rating</th>\n",
       "      <th>duration</th>\n",
       "      <th>listed_in</th>\n",
       "      <th>description</th>\n",
       "    </tr>\n",
       "  </thead>\n",
       "  <tbody>\n",
       "    <tr>\n",
       "      <th>542</th>\n",
       "      <td>s543</td>\n",
       "      <td>Movie</td>\n",
       "      <td>Ujala</td>\n",
       "      <td>Naresh Saigal</td>\n",
       "      <td>Mala Sinha, Shammi Kapoor, Raaj Kumar, Leela C...</td>\n",
       "      <td>India</td>\n",
       "      <td>July 6, 2021</td>\n",
       "      <td>1959</td>\n",
       "      <td>TV-14</td>\n",
       "      <td>143 min</td>\n",
       "      <td>Dramas, International Movies</td>\n",
       "      <td>An honest man dreams of a better life for his ...</td>\n",
       "    </tr>\n",
       "    <tr>\n",
       "      <th>1331</th>\n",
       "      <td>s1332</td>\n",
       "      <td>TV Show</td>\n",
       "      <td>Five Came Back: The Reference Films</td>\n",
       "      <td>NaN</td>\n",
       "      <td>NaN</td>\n",
       "      <td>United States</td>\n",
       "      <td>February 9, 2021</td>\n",
       "      <td>1945</td>\n",
       "      <td>TV-MA</td>\n",
       "      <td>1 Season</td>\n",
       "      <td>TV Shows</td>\n",
       "      <td>This collection includes 12 World War II-era p...</td>\n",
       "    </tr>\n",
       "    <tr>\n",
       "      <th>1699</th>\n",
       "      <td>s1700</td>\n",
       "      <td>Movie</td>\n",
       "      <td>White Christmas</td>\n",
       "      <td>Michael Curtiz</td>\n",
       "      <td>Bing Crosby, Danny Kaye, Rosemary Clooney, Ver...</td>\n",
       "      <td>United States</td>\n",
       "      <td>November 15, 2020</td>\n",
       "      <td>1954</td>\n",
       "      <td>TV-G</td>\n",
       "      <td>120 min</td>\n",
       "      <td>Children &amp; Family Movies, Classic Movies, Come...</td>\n",
       "      <td>Two war buddies fall for two sisters and follo...</td>\n",
       "    </tr>\n",
       "    <tr>\n",
       "      <th>2368</th>\n",
       "      <td>s2369</td>\n",
       "      <td>Movie</td>\n",
       "      <td>Cairo Station</td>\n",
       "      <td>Youssef Chahine</td>\n",
       "      <td>Farid Shawqy, Hind Rostom, Youssef Chahine, Ha...</td>\n",
       "      <td>Egypt</td>\n",
       "      <td>June 18, 2020</td>\n",
       "      <td>1958</td>\n",
       "      <td>TV-14</td>\n",
       "      <td>73 min</td>\n",
       "      <td>Classic Movies, Dramas, International Movies</td>\n",
       "      <td>A Cairo newsstand vendor's fantasies morph int...</td>\n",
       "    </tr>\n",
       "    <tr>\n",
       "      <th>2369</th>\n",
       "      <td>s2370</td>\n",
       "      <td>Movie</td>\n",
       "      <td>Dark Waters</td>\n",
       "      <td>Youssef Chahine</td>\n",
       "      <td>Faten Hamama, Omar Sharif, Ahmed Ramzy, Hussei...</td>\n",
       "      <td>Egypt</td>\n",
       "      <td>June 18, 2020</td>\n",
       "      <td>1956</td>\n",
       "      <td>TV-14</td>\n",
       "      <td>104 min</td>\n",
       "      <td>Classic Movies, Dramas, International Movies</td>\n",
       "      <td>A fisherman returns home after a three-year ab...</td>\n",
       "    </tr>\n",
       "    <tr>\n",
       "      <th>2375</th>\n",
       "      <td>s2376</td>\n",
       "      <td>Movie</td>\n",
       "      <td>The Blazing Sun</td>\n",
       "      <td>Youssef Chahine</td>\n",
       "      <td>Omar Sharif, Faten Hamama, Zaki Rostom, Farid ...</td>\n",
       "      <td>Egypt</td>\n",
       "      <td>June 18, 2020</td>\n",
       "      <td>1954</td>\n",
       "      <td>TV-14</td>\n",
       "      <td>116 min</td>\n",
       "      <td>Classic Movies, Dramas, International Movies</td>\n",
       "      <td>Competition between sugar cane producers turns...</td>\n",
       "    </tr>\n",
       "    <tr>\n",
       "      <th>4250</th>\n",
       "      <td>s4251</td>\n",
       "      <td>TV Show</td>\n",
       "      <td>Pioneers: First Women Filmmakers*</td>\n",
       "      <td>NaN</td>\n",
       "      <td>NaN</td>\n",
       "      <td>NaN</td>\n",
       "      <td>December 30, 2018</td>\n",
       "      <td>1925</td>\n",
       "      <td>TV-14</td>\n",
       "      <td>1 Season</td>\n",
       "      <td>TV Shows</td>\n",
       "      <td>This collection restores films from women who ...</td>\n",
       "    </tr>\n",
       "    <tr>\n",
       "      <th>5220</th>\n",
       "      <td>s5221</td>\n",
       "      <td>Movie</td>\n",
       "      <td>Singapore</td>\n",
       "      <td>Shakti Samanta</td>\n",
       "      <td>Shammi Kapoor, Padmini, Maria Menado, Shashika...</td>\n",
       "      <td>India, Malaysia</td>\n",
       "      <td>October 15, 2017</td>\n",
       "      <td>1960</td>\n",
       "      <td>TV-PG</td>\n",
       "      <td>158 min</td>\n",
       "      <td>Comedies, Dramas, International Movies</td>\n",
       "      <td>When his employee disappears in Singapore, Shy...</td>\n",
       "    </tr>\n",
       "    <tr>\n",
       "      <th>6395</th>\n",
       "      <td>s6396</td>\n",
       "      <td>Movie</td>\n",
       "      <td>Butterfield 8</td>\n",
       "      <td>Daniel Mann</td>\n",
       "      <td>Elizabeth Taylor, Laurence Harvey, Eddie Fishe...</td>\n",
       "      <td>United States</td>\n",
       "      <td>November 1, 2019</td>\n",
       "      <td>1960</td>\n",
       "      <td>TV-14</td>\n",
       "      <td>108 min</td>\n",
       "      <td>Classic Movies, Dramas, Romantic Movies</td>\n",
       "      <td>Elizabeth Taylor won an Oscar as Gloria Wandro...</td>\n",
       "    </tr>\n",
       "    <tr>\n",
       "      <th>6431</th>\n",
       "      <td>s6432</td>\n",
       "      <td>Movie</td>\n",
       "      <td>Cat on a Hot Tin Roof</td>\n",
       "      <td>Richard Brooks</td>\n",
       "      <td>Elizabeth Taylor, Paul Newman, Burl Ives, Jack...</td>\n",
       "      <td>United States</td>\n",
       "      <td>November 1, 2019</td>\n",
       "      <td>1958</td>\n",
       "      <td>NR</td>\n",
       "      <td>108 min</td>\n",
       "      <td>Classic Movies, Dramas</td>\n",
       "      <td>Members of a Southern clan scramble to curry f...</td>\n",
       "    </tr>\n",
       "    <tr>\n",
       "      <th>6784</th>\n",
       "      <td>s6785</td>\n",
       "      <td>Movie</td>\n",
       "      <td>Forbidden Planet</td>\n",
       "      <td>Fred M. Wilcox</td>\n",
       "      <td>Leslie Nielsen, Walter Pidgeon, Anne Francis, ...</td>\n",
       "      <td>United States</td>\n",
       "      <td>November 1, 2019</td>\n",
       "      <td>1956</td>\n",
       "      <td>G</td>\n",
       "      <td>98 min</td>\n",
       "      <td>Action &amp; Adventure, Classic Movies, Sci-Fi &amp; F...</td>\n",
       "      <td>A pulp-fiction sci-fi classic, Forbidden Plane...</td>\n",
       "    </tr>\n",
       "    <tr>\n",
       "      <th>6853</th>\n",
       "      <td>s6854</td>\n",
       "      <td>Movie</td>\n",
       "      <td>Gigi</td>\n",
       "      <td>Vincente Minnelli, Charles Walters</td>\n",
       "      <td>Leslie Caron, Maurice Chevalier, Louis Jourdan...</td>\n",
       "      <td>United States</td>\n",
       "      <td>November 1, 2019</td>\n",
       "      <td>1958</td>\n",
       "      <td>G</td>\n",
       "      <td>115 min</td>\n",
       "      <td>Classic Movies, Comedies, Music &amp; Musicals</td>\n",
       "      <td>Gigi's an avant-garde French waif being groome...</td>\n",
       "    </tr>\n",
       "    <tr>\n",
       "      <th>7133</th>\n",
       "      <td>s7134</td>\n",
       "      <td>Movie</td>\n",
       "      <td>Jis Desh Men Ganga Behti Hai</td>\n",
       "      <td>Radhu Karmakar</td>\n",
       "      <td>Raj Kapoor, Padmini, Pran, Chanchal, Lalita Pa...</td>\n",
       "      <td>NaN</td>\n",
       "      <td>December 31, 2019</td>\n",
       "      <td>1960</td>\n",
       "      <td>TV-14</td>\n",
       "      <td>181 min</td>\n",
       "      <td>Action &amp; Adventure, Dramas, International Movies</td>\n",
       "      <td>Falling in with a band of outlaws during a hol...</td>\n",
       "    </tr>\n",
       "    <tr>\n",
       "      <th>7219</th>\n",
       "      <td>s7220</td>\n",
       "      <td>Movie</td>\n",
       "      <td>Know Your Enemy - Japan</td>\n",
       "      <td>Frank Capra, Joris Ivens</td>\n",
       "      <td>Walter Huston, Dana Andrews</td>\n",
       "      <td>United States</td>\n",
       "      <td>March 31, 2017</td>\n",
       "      <td>1945</td>\n",
       "      <td>TV-14</td>\n",
       "      <td>63 min</td>\n",
       "      <td>Classic Movies, Documentaries</td>\n",
       "      <td>Though culturally insensitive by modern standa...</td>\n",
       "    </tr>\n",
       "    <tr>\n",
       "      <th>7294</th>\n",
       "      <td>s7295</td>\n",
       "      <td>Movie</td>\n",
       "      <td>Let There Be Light</td>\n",
       "      <td>John Huston</td>\n",
       "      <td>Walter Huston</td>\n",
       "      <td>United States</td>\n",
       "      <td>March 31, 2017</td>\n",
       "      <td>1946</td>\n",
       "      <td>TV-PG</td>\n",
       "      <td>58 min</td>\n",
       "      <td>Classic Movies, Documentaries</td>\n",
       "      <td>Some returning combat veterans suffer scars th...</td>\n",
       "    </tr>\n",
       "    <tr>\n",
       "      <th>7575</th>\n",
       "      <td>s7576</td>\n",
       "      <td>Movie</td>\n",
       "      <td>Nazi Concentration Camps</td>\n",
       "      <td>George Stevens</td>\n",
       "      <td>NaN</td>\n",
       "      <td>United States</td>\n",
       "      <td>March 31, 2017</td>\n",
       "      <td>1945</td>\n",
       "      <td>TV-MA</td>\n",
       "      <td>59 min</td>\n",
       "      <td>Classic Movies, Documentaries</td>\n",
       "      <td>Shocking footage shows Nazi concentration camp...</td>\n",
       "    </tr>\n",
       "    <tr>\n",
       "      <th>7637</th>\n",
       "      <td>s7638</td>\n",
       "      <td>Movie</td>\n",
       "      <td>Ocean's Eleven</td>\n",
       "      <td>Lewis Milestone</td>\n",
       "      <td>Frank Sinatra, Dean Martin, Sammy Davis Jr., P...</td>\n",
       "      <td>United States</td>\n",
       "      <td>November 1, 2019</td>\n",
       "      <td>1960</td>\n",
       "      <td>TV-PG</td>\n",
       "      <td>127 min</td>\n",
       "      <td>Action &amp; Adventure, Classic Movies, Comedies</td>\n",
       "      <td>Frank Sinatra leads an all-star cast as Danny ...</td>\n",
       "    </tr>\n",
       "    <tr>\n",
       "      <th>7743</th>\n",
       "      <td>s7744</td>\n",
       "      <td>TV Show</td>\n",
       "      <td>Pioneers of African-American Cinema</td>\n",
       "      <td>Oscar Micheaux, Spencer Williams, Richard E. N...</td>\n",
       "      <td>NaN</td>\n",
       "      <td>United States</td>\n",
       "      <td>February 1, 2017</td>\n",
       "      <td>1946</td>\n",
       "      <td>TV-14</td>\n",
       "      <td>1 Season</td>\n",
       "      <td>TV Shows</td>\n",
       "      <td>This newly preserved collection features more ...</td>\n",
       "    </tr>\n",
       "    <tr>\n",
       "      <th>7790</th>\n",
       "      <td>s7791</td>\n",
       "      <td>Movie</td>\n",
       "      <td>Prelude to War</td>\n",
       "      <td>Frank Capra</td>\n",
       "      <td>NaN</td>\n",
       "      <td>United States</td>\n",
       "      <td>March 31, 2017</td>\n",
       "      <td>1942</td>\n",
       "      <td>TV-14</td>\n",
       "      <td>52 min</td>\n",
       "      <td>Classic Movies, Documentaries</td>\n",
       "      <td>Frank Capra's documentary chronicles the rise ...</td>\n",
       "    </tr>\n",
       "    <tr>\n",
       "      <th>7839</th>\n",
       "      <td>s7840</td>\n",
       "      <td>Movie</td>\n",
       "      <td>Rebel Without a Cause</td>\n",
       "      <td>Nicholas Ray</td>\n",
       "      <td>James Dean, Natalie Wood, Sal Mineo, Jim Backu...</td>\n",
       "      <td>United States</td>\n",
       "      <td>November 1, 2019</td>\n",
       "      <td>1955</td>\n",
       "      <td>PG-13</td>\n",
       "      <td>111 min</td>\n",
       "      <td>Classic Movies, Dramas</td>\n",
       "      <td>When Jim Stark arrives in a new town with his ...</td>\n",
       "    </tr>\n",
       "    <tr>\n",
       "      <th>7930</th>\n",
       "      <td>s7931</td>\n",
       "      <td>Movie</td>\n",
       "      <td>San Pietro</td>\n",
       "      <td>John Huston</td>\n",
       "      <td>NaN</td>\n",
       "      <td>United States</td>\n",
       "      <td>March 31, 2017</td>\n",
       "      <td>1945</td>\n",
       "      <td>TV-14</td>\n",
       "      <td>32 min</td>\n",
       "      <td>Classic Movies, Documentaries</td>\n",
       "      <td>After the Allies invade Italy, the Liri Valley...</td>\n",
       "    </tr>\n",
       "    <tr>\n",
       "      <th>7954</th>\n",
       "      <td>s7955</td>\n",
       "      <td>Movie</td>\n",
       "      <td>Scandal in Sorrento</td>\n",
       "      <td>Dino Risi</td>\n",
       "      <td>Vittorio De Sica, Sophia Loren, Lea Padovani, ...</td>\n",
       "      <td>Italy, France</td>\n",
       "      <td>November 13, 2020</td>\n",
       "      <td>1955</td>\n",
       "      <td>TV-PG</td>\n",
       "      <td>93 min</td>\n",
       "      <td>Classic Movies, Comedies, Independent Movies</td>\n",
       "      <td>When a marshal moves back to his hometown, he ...</td>\n",
       "    </tr>\n",
       "    <tr>\n",
       "      <th>8205</th>\n",
       "      <td>s8206</td>\n",
       "      <td>Movie</td>\n",
       "      <td>The Battle of Midway</td>\n",
       "      <td>John Ford</td>\n",
       "      <td>Henry Fonda, Jane Darwell</td>\n",
       "      <td>United States</td>\n",
       "      <td>March 31, 2017</td>\n",
       "      <td>1942</td>\n",
       "      <td>TV-14</td>\n",
       "      <td>18 min</td>\n",
       "      <td>Classic Movies, Documentaries</td>\n",
       "      <td>Director John Ford captures combat footage of ...</td>\n",
       "    </tr>\n",
       "    <tr>\n",
       "      <th>8419</th>\n",
       "      <td>s8420</td>\n",
       "      <td>Movie</td>\n",
       "      <td>The Memphis Belle: A Story of a\\nFlying Fortress</td>\n",
       "      <td>William Wyler</td>\n",
       "      <td>NaN</td>\n",
       "      <td>United States</td>\n",
       "      <td>March 31, 2017</td>\n",
       "      <td>1944</td>\n",
       "      <td>TV-PG</td>\n",
       "      <td>40 min</td>\n",
       "      <td>Classic Movies, Documentaries</td>\n",
       "      <td>This documentary centers on the crew of the B-...</td>\n",
       "    </tr>\n",
       "    <tr>\n",
       "      <th>8436</th>\n",
       "      <td>s8437</td>\n",
       "      <td>Movie</td>\n",
       "      <td>The Negro Soldier</td>\n",
       "      <td>Stuart Heisler</td>\n",
       "      <td>NaN</td>\n",
       "      <td>United States</td>\n",
       "      <td>March 31, 2017</td>\n",
       "      <td>1944</td>\n",
       "      <td>TV-14</td>\n",
       "      <td>40 min</td>\n",
       "      <td>Classic Movies, Documentaries</td>\n",
       "      <td>This documentary urged African Americans to en...</td>\n",
       "    </tr>\n",
       "    <tr>\n",
       "      <th>8506</th>\n",
       "      <td>s8507</td>\n",
       "      <td>Movie</td>\n",
       "      <td>The Sign of Venus</td>\n",
       "      <td>Dino Risi</td>\n",
       "      <td>Sophia Loren, Franca Valeri, Vittorio De Sica,...</td>\n",
       "      <td>Italy</td>\n",
       "      <td>November 13, 2020</td>\n",
       "      <td>1955</td>\n",
       "      <td>TV-14</td>\n",
       "      <td>97 min</td>\n",
       "      <td>Classic Movies, Comedies, Independent Movies</td>\n",
       "      <td>While suitors swoon over her cousin, a single ...</td>\n",
       "    </tr>\n",
       "    <tr>\n",
       "      <th>8587</th>\n",
       "      <td>s8588</td>\n",
       "      <td>Movie</td>\n",
       "      <td>Thunderbolt</td>\n",
       "      <td>William Wyler, John Sturges</td>\n",
       "      <td>James Stewart, Lloyd Bridges</td>\n",
       "      <td>United States</td>\n",
       "      <td>March 31, 2017</td>\n",
       "      <td>1947</td>\n",
       "      <td>TV-PG</td>\n",
       "      <td>42 min</td>\n",
       "      <td>Classic Movies, Documentaries</td>\n",
       "      <td>A P-47 Thunderbolt squadron is shown in prepar...</td>\n",
       "    </tr>\n",
       "    <tr>\n",
       "      <th>8640</th>\n",
       "      <td>s8641</td>\n",
       "      <td>Movie</td>\n",
       "      <td>Tunisian Victory</td>\n",
       "      <td>Frank Capra, John Huston, Hugh Stewart, Roy Bo...</td>\n",
       "      <td>Burgess Meredith</td>\n",
       "      <td>United States, United Kingdom</td>\n",
       "      <td>March 31, 2017</td>\n",
       "      <td>1944</td>\n",
       "      <td>TV-14</td>\n",
       "      <td>76 min</td>\n",
       "      <td>Classic Movies, Documentaries</td>\n",
       "      <td>British and American troops join forces to lib...</td>\n",
       "    </tr>\n",
       "    <tr>\n",
       "      <th>8660</th>\n",
       "      <td>s8661</td>\n",
       "      <td>Movie</td>\n",
       "      <td>Undercover: How to Operate Behind Enemy Lines</td>\n",
       "      <td>John Ford</td>\n",
       "      <td>NaN</td>\n",
       "      <td>United States</td>\n",
       "      <td>March 31, 2017</td>\n",
       "      <td>1943</td>\n",
       "      <td>TV-PG</td>\n",
       "      <td>61 min</td>\n",
       "      <td>Classic Movies, Documentaries</td>\n",
       "      <td>This World War II-era training film dramatizes...</td>\n",
       "    </tr>\n",
       "    <tr>\n",
       "      <th>8739</th>\n",
       "      <td>s8740</td>\n",
       "      <td>Movie</td>\n",
       "      <td>Why We Fight: The Battle of Russia</td>\n",
       "      <td>Frank Capra, Anatole Litvak</td>\n",
       "      <td>NaN</td>\n",
       "      <td>United States</td>\n",
       "      <td>March 31, 2017</td>\n",
       "      <td>1943</td>\n",
       "      <td>TV-PG</td>\n",
       "      <td>82 min</td>\n",
       "      <td>Documentaries</td>\n",
       "      <td>This installment of Frank Capra's acclaimed do...</td>\n",
       "    </tr>\n",
       "    <tr>\n",
       "      <th>8763</th>\n",
       "      <td>s8764</td>\n",
       "      <td>Movie</td>\n",
       "      <td>WWII: Report from the Aleutians</td>\n",
       "      <td>John Huston</td>\n",
       "      <td>NaN</td>\n",
       "      <td>United States</td>\n",
       "      <td>March 31, 2017</td>\n",
       "      <td>1943</td>\n",
       "      <td>TV-PG</td>\n",
       "      <td>45 min</td>\n",
       "      <td>Documentaries</td>\n",
       "      <td>Filmmaker John Huston narrates this Oscar-nomi...</td>\n",
       "    </tr>\n",
       "  </tbody>\n",
       "</table>\n",
       "</div>"
      ],
      "text/plain": [
       "     show_id     type                                             title  \\\n",
       "542     s543    Movie                                             Ujala   \n",
       "1331   s1332  TV Show               Five Came Back: The Reference Films   \n",
       "1699   s1700    Movie                                   White Christmas   \n",
       "2368   s2369    Movie                                     Cairo Station   \n",
       "2369   s2370    Movie                                       Dark Waters   \n",
       "2375   s2376    Movie                                   The Blazing Sun   \n",
       "4250   s4251  TV Show                 Pioneers: First Women Filmmakers*   \n",
       "5220   s5221    Movie                                         Singapore   \n",
       "6395   s6396    Movie                                     Butterfield 8   \n",
       "6431   s6432    Movie                             Cat on a Hot Tin Roof   \n",
       "6784   s6785    Movie                                  Forbidden Planet   \n",
       "6853   s6854    Movie                                              Gigi   \n",
       "7133   s7134    Movie                      Jis Desh Men Ganga Behti Hai   \n",
       "7219   s7220    Movie                           Know Your Enemy - Japan   \n",
       "7294   s7295    Movie                                Let There Be Light   \n",
       "7575   s7576    Movie                          Nazi Concentration Camps   \n",
       "7637   s7638    Movie                                    Ocean's Eleven   \n",
       "7743   s7744  TV Show               Pioneers of African-American Cinema   \n",
       "7790   s7791    Movie                                    Prelude to War   \n",
       "7839   s7840    Movie                             Rebel Without a Cause   \n",
       "7930   s7931    Movie                                        San Pietro   \n",
       "7954   s7955    Movie                               Scandal in Sorrento   \n",
       "8205   s8206    Movie                              The Battle of Midway   \n",
       "8419   s8420    Movie  The Memphis Belle: A Story of a\\nFlying Fortress   \n",
       "8436   s8437    Movie                                 The Negro Soldier   \n",
       "8506   s8507    Movie                                 The Sign of Venus   \n",
       "8587   s8588    Movie                                       Thunderbolt   \n",
       "8640   s8641    Movie                                  Tunisian Victory   \n",
       "8660   s8661    Movie     Undercover: How to Operate Behind Enemy Lines   \n",
       "8739   s8740    Movie                Why We Fight: The Battle of Russia   \n",
       "8763   s8764    Movie                   WWII: Report from the Aleutians   \n",
       "\n",
       "                                               director  \\\n",
       "542                                       Naresh Saigal   \n",
       "1331                                                NaN   \n",
       "1699                                     Michael Curtiz   \n",
       "2368                                    Youssef Chahine   \n",
       "2369                                    Youssef Chahine   \n",
       "2375                                    Youssef Chahine   \n",
       "4250                                                NaN   \n",
       "5220                                     Shakti Samanta   \n",
       "6395                                        Daniel Mann   \n",
       "6431                                     Richard Brooks   \n",
       "6784                                     Fred M. Wilcox   \n",
       "6853                 Vincente Minnelli, Charles Walters   \n",
       "7133                                     Radhu Karmakar   \n",
       "7219                           Frank Capra, Joris Ivens   \n",
       "7294                                        John Huston   \n",
       "7575                                     George Stevens   \n",
       "7637                                    Lewis Milestone   \n",
       "7743  Oscar Micheaux, Spencer Williams, Richard E. N...   \n",
       "7790                                        Frank Capra   \n",
       "7839                                       Nicholas Ray   \n",
       "7930                                        John Huston   \n",
       "7954                                          Dino Risi   \n",
       "8205                                          John Ford   \n",
       "8419                                      William Wyler   \n",
       "8436                                     Stuart Heisler   \n",
       "8506                                          Dino Risi   \n",
       "8587                        William Wyler, John Sturges   \n",
       "8640  Frank Capra, John Huston, Hugh Stewart, Roy Bo...   \n",
       "8660                                          John Ford   \n",
       "8739                        Frank Capra, Anatole Litvak   \n",
       "8763                                        John Huston   \n",
       "\n",
       "                                                   cast  \\\n",
       "542   Mala Sinha, Shammi Kapoor, Raaj Kumar, Leela C...   \n",
       "1331                                                NaN   \n",
       "1699  Bing Crosby, Danny Kaye, Rosemary Clooney, Ver...   \n",
       "2368  Farid Shawqy, Hind Rostom, Youssef Chahine, Ha...   \n",
       "2369  Faten Hamama, Omar Sharif, Ahmed Ramzy, Hussei...   \n",
       "2375  Omar Sharif, Faten Hamama, Zaki Rostom, Farid ...   \n",
       "4250                                                NaN   \n",
       "5220  Shammi Kapoor, Padmini, Maria Menado, Shashika...   \n",
       "6395  Elizabeth Taylor, Laurence Harvey, Eddie Fishe...   \n",
       "6431  Elizabeth Taylor, Paul Newman, Burl Ives, Jack...   \n",
       "6784  Leslie Nielsen, Walter Pidgeon, Anne Francis, ...   \n",
       "6853  Leslie Caron, Maurice Chevalier, Louis Jourdan...   \n",
       "7133  Raj Kapoor, Padmini, Pran, Chanchal, Lalita Pa...   \n",
       "7219                        Walter Huston, Dana Andrews   \n",
       "7294                                      Walter Huston   \n",
       "7575                                                NaN   \n",
       "7637  Frank Sinatra, Dean Martin, Sammy Davis Jr., P...   \n",
       "7743                                                NaN   \n",
       "7790                                                NaN   \n",
       "7839  James Dean, Natalie Wood, Sal Mineo, Jim Backu...   \n",
       "7930                                                NaN   \n",
       "7954  Vittorio De Sica, Sophia Loren, Lea Padovani, ...   \n",
       "8205                          Henry Fonda, Jane Darwell   \n",
       "8419                                                NaN   \n",
       "8436                                                NaN   \n",
       "8506  Sophia Loren, Franca Valeri, Vittorio De Sica,...   \n",
       "8587                       James Stewart, Lloyd Bridges   \n",
       "8640                                   Burgess Meredith   \n",
       "8660                                                NaN   \n",
       "8739                                                NaN   \n",
       "8763                                                NaN   \n",
       "\n",
       "                            country         date_added  release_year rating  \\\n",
       "542                           India       July 6, 2021          1959  TV-14   \n",
       "1331                  United States   February 9, 2021          1945  TV-MA   \n",
       "1699                  United States  November 15, 2020          1954   TV-G   \n",
       "2368                          Egypt      June 18, 2020          1958  TV-14   \n",
       "2369                          Egypt      June 18, 2020          1956  TV-14   \n",
       "2375                          Egypt      June 18, 2020          1954  TV-14   \n",
       "4250                            NaN  December 30, 2018          1925  TV-14   \n",
       "5220                India, Malaysia   October 15, 2017          1960  TV-PG   \n",
       "6395                  United States   November 1, 2019          1960  TV-14   \n",
       "6431                  United States   November 1, 2019          1958     NR   \n",
       "6784                  United States   November 1, 2019          1956      G   \n",
       "6853                  United States   November 1, 2019          1958      G   \n",
       "7133                            NaN  December 31, 2019          1960  TV-14   \n",
       "7219                  United States     March 31, 2017          1945  TV-14   \n",
       "7294                  United States     March 31, 2017          1946  TV-PG   \n",
       "7575                  United States     March 31, 2017          1945  TV-MA   \n",
       "7637                  United States   November 1, 2019          1960  TV-PG   \n",
       "7743                  United States   February 1, 2017          1946  TV-14   \n",
       "7790                  United States     March 31, 2017          1942  TV-14   \n",
       "7839                  United States   November 1, 2019          1955  PG-13   \n",
       "7930                  United States     March 31, 2017          1945  TV-14   \n",
       "7954                  Italy, France  November 13, 2020          1955  TV-PG   \n",
       "8205                  United States     March 31, 2017          1942  TV-14   \n",
       "8419                  United States     March 31, 2017          1944  TV-PG   \n",
       "8436                  United States     March 31, 2017          1944  TV-14   \n",
       "8506                          Italy  November 13, 2020          1955  TV-14   \n",
       "8587                  United States     March 31, 2017          1947  TV-PG   \n",
       "8640  United States, United Kingdom     March 31, 2017          1944  TV-14   \n",
       "8660                  United States     March 31, 2017          1943  TV-PG   \n",
       "8739                  United States     March 31, 2017          1943  TV-PG   \n",
       "8763                  United States     March 31, 2017          1943  TV-PG   \n",
       "\n",
       "      duration                                          listed_in  \\\n",
       "542    143 min                       Dramas, International Movies   \n",
       "1331  1 Season                                           TV Shows   \n",
       "1699   120 min  Children & Family Movies, Classic Movies, Come...   \n",
       "2368    73 min       Classic Movies, Dramas, International Movies   \n",
       "2369   104 min       Classic Movies, Dramas, International Movies   \n",
       "2375   116 min       Classic Movies, Dramas, International Movies   \n",
       "4250  1 Season                                           TV Shows   \n",
       "5220   158 min             Comedies, Dramas, International Movies   \n",
       "6395   108 min            Classic Movies, Dramas, Romantic Movies   \n",
       "6431   108 min                             Classic Movies, Dramas   \n",
       "6784    98 min  Action & Adventure, Classic Movies, Sci-Fi & F...   \n",
       "6853   115 min         Classic Movies, Comedies, Music & Musicals   \n",
       "7133   181 min   Action & Adventure, Dramas, International Movies   \n",
       "7219    63 min                      Classic Movies, Documentaries   \n",
       "7294    58 min                      Classic Movies, Documentaries   \n",
       "7575    59 min                      Classic Movies, Documentaries   \n",
       "7637   127 min       Action & Adventure, Classic Movies, Comedies   \n",
       "7743  1 Season                                           TV Shows   \n",
       "7790    52 min                      Classic Movies, Documentaries   \n",
       "7839   111 min                             Classic Movies, Dramas   \n",
       "7930    32 min                      Classic Movies, Documentaries   \n",
       "7954    93 min       Classic Movies, Comedies, Independent Movies   \n",
       "8205    18 min                      Classic Movies, Documentaries   \n",
       "8419    40 min                      Classic Movies, Documentaries   \n",
       "8436    40 min                      Classic Movies, Documentaries   \n",
       "8506    97 min       Classic Movies, Comedies, Independent Movies   \n",
       "8587    42 min                      Classic Movies, Documentaries   \n",
       "8640    76 min                      Classic Movies, Documentaries   \n",
       "8660    61 min                      Classic Movies, Documentaries   \n",
       "8739    82 min                                      Documentaries   \n",
       "8763    45 min                                      Documentaries   \n",
       "\n",
       "                                            description  \n",
       "542   An honest man dreams of a better life for his ...  \n",
       "1331  This collection includes 12 World War II-era p...  \n",
       "1699  Two war buddies fall for two sisters and follo...  \n",
       "2368  A Cairo newsstand vendor's fantasies morph int...  \n",
       "2369  A fisherman returns home after a three-year ab...  \n",
       "2375  Competition between sugar cane producers turns...  \n",
       "4250  This collection restores films from women who ...  \n",
       "5220  When his employee disappears in Singapore, Shy...  \n",
       "6395  Elizabeth Taylor won an Oscar as Gloria Wandro...  \n",
       "6431  Members of a Southern clan scramble to curry f...  \n",
       "6784  A pulp-fiction sci-fi classic, Forbidden Plane...  \n",
       "6853  Gigi's an avant-garde French waif being groome...  \n",
       "7133  Falling in with a band of outlaws during a hol...  \n",
       "7219  Though culturally insensitive by modern standa...  \n",
       "7294  Some returning combat veterans suffer scars th...  \n",
       "7575  Shocking footage shows Nazi concentration camp...  \n",
       "7637  Frank Sinatra leads an all-star cast as Danny ...  \n",
       "7743  This newly preserved collection features more ...  \n",
       "7790  Frank Capra's documentary chronicles the rise ...  \n",
       "7839  When Jim Stark arrives in a new town with his ...  \n",
       "7930  After the Allies invade Italy, the Liri Valley...  \n",
       "7954  When a marshal moves back to his hometown, he ...  \n",
       "8205  Director John Ford captures combat footage of ...  \n",
       "8419  This documentary centers on the crew of the B-...  \n",
       "8436  This documentary urged African Americans to en...  \n",
       "8506  While suitors swoon over her cousin, a single ...  \n",
       "8587  A P-47 Thunderbolt squadron is shown in prepar...  \n",
       "8640  British and American troops join forces to lib...  \n",
       "8660  This World War II-era training film dramatizes...  \n",
       "8739  This installment of Frank Capra's acclaimed do...  \n",
       "8763  Filmmaker John Huston narrates this Oscar-nomi...  "
      ]
     },
     "execution_count": 18,
     "metadata": {},
     "output_type": "execute_result"
    }
   ],
   "source": [
    "netflix_titles[netflix_titles.release_year <= 1960]"
   ]
  },
  {
   "cell_type": "code",
   "execution_count": 19,
   "id": "8befbde6-0fb8-4f1e-88f8-99f003d1b43e",
   "metadata": {},
   "outputs": [],
   "source": [
    "sixties_movies = netflix_titles[\n",
    "    (netflix_titles.release_year >= 1960) &\n",
    "    (netflix_titles.release_year <= 1970)\n",
    "]"
   ]
  },
  {
   "cell_type": "code",
   "execution_count": 20,
   "id": "19aa23fb-b62c-4720-abca-a8773a9122fe",
   "metadata": {},
   "outputs": [
    {
     "data": {
      "image/png": "[encoded data removed]",
      "text/plain": [
       "<Figure size 640x480 with 1 Axes>"
      ]
     },
     "metadata": {},
     "output_type": "display_data"
    }
   ],
   "source": [
    "plt.hist(sixties_movies.release_year)\n",
    "plt.show()"
   ]
  },
  {
   "cell_type": "code",
   "execution_count": 21,
   "id": "eec10e53-110f-47cd-9b99-af9700805ea6",
   "metadata": {},
   "outputs": [],
   "source": [
    "histogram_data = sixties_movies.release_year.value_counts().sort_index()"
   ]
  },
  {
   "cell_type": "code",
   "execution_count": 22,
   "id": "5fc3d32f-5640-4837-9614-7e921736497c",
   "metadata": {},
   "outputs": [
    {
     "data": {
      "text/plain": [
       "Index([1960, 1961, 1962, 1963, 1964, 1965, 1966, 1967, 1968, 1969, 1970], dtype='int64', name='release_year')"
      ]
     },
     "execution_count": 22,
     "metadata": {},
     "output_type": "execute_result"
    }
   ],
   "source": [
    "histogram_data.index"
   ]
  },
  {
   "cell_type": "code",
   "execution_count": 23,
   "id": "ee843d6d-af6a-4fd3-ab31-85baf83c021a",
   "metadata": {},
   "outputs": [
    {
     "data": {
      "image/png": "[encoded data removed]",
      "text/plain": [
       "<Figure size 640x480 with 1 Axes>"
      ]
     },
     "metadata": {},
     "output_type": "display_data"
    }
   ],
   "source": [
    "plt.bar(histogram_data.index, histogram_data)\n",
    "plt.xticks(range(1960, 1971))\n",
    "plt.xlabel(\"Release year\")\n",
    "plt.ylabel(\"Number of movies\")\n",
    "plt.title(\"Netflix' Sixties Movies\")\n",
    "plt.show()"
   ]
  },
  {
   "cell_type": "code",
   "execution_count": 24,
   "id": "f56a2721-7263-485b-a58d-e5c917a2542c",
   "metadata": {},
   "outputs": [
    {
     "data": {
      "text/plain": [
       "2014.1801975701146"
      ]
     },
     "execution_count": 24,
     "metadata": {},
     "output_type": "execute_result"
    }
   ],
   "source": [
    "netflix_titles.release_year.mean() # this is the arithmetic mean"
   ]
  },
  {
   "cell_type": "code",
   "execution_count": 25,
   "id": "2a4c7efb-9e89-4b95-a190-4d5f981fc2bc",
   "metadata": {},
   "outputs": [
    {
     "data": {
      "text/plain": [
       "(2018, 1147)"
      ]
     },
     "execution_count": 25,
     "metadata": {},
     "output_type": "execute_result"
    }
   ],
   "source": [
    "netflix_titles.release_year.value_counts().idxmax(), netflix_titles.release_year.value_counts().max()"
   ]
  },
  {
   "cell_type": "code",
   "execution_count": 26,
   "id": "21be77a6-f238-435f-b24c-2a6828d068d6",
   "metadata": {},
   "outputs": [
    {
     "data": {
      "text/plain": [
       "119.01351351351352"
      ]
     },
     "execution_count": 26,
     "metadata": {},
     "output_type": "execute_result"
    }
   ],
   "source": [
    "netflix_titles.release_year.value_counts().mean() # avarage number of movies per year"
   ]
  },
  {
   "cell_type": "code",
   "execution_count": 27,
   "id": "ef11ae0d-f708-4ea5-935b-76b41ce5eed4",
   "metadata": {},
   "outputs": [
    {
     "data": {
      "image/png": "[encoded data removed]",
      "text/plain": [
       "<Figure size 640x480 with 1 Axes>"
      ]
     },
     "metadata": {},
     "output_type": "display_data"
    }
   ],
   "source": [
    "number_of_movies_per_year = netflix_titles.release_year.value_counts()\n",
    "plt.hist(number_of_movies_per_year)\n",
    "plt.xlabel(\"Number of movies\")\n",
    "plt.ylabel(\"Years\")\n",
    "plt.show()"
   ]
  },
  {
   "cell_type": "code",
   "execution_count": 28,
   "id": "3104d079-860e-4dad-87db-c9f6ec61ee40",
   "metadata": {},
   "outputs": [
    {
     "data": {
      "text/plain": [
       "7.0"
      ]
     },
     "execution_count": 28,
     "metadata": {},
     "output_type": "execute_result"
    }
   ],
   "source": [
    "np.median([2,5,6,8,9,10])"
   ]
  },
  {
   "cell_type": "code",
   "execution_count": 29,
   "id": "73fda960-fc41-4a46-9af0-7d5eeb67900f",
   "metadata": {},
   "outputs": [
    {
     "data": {
      "text/plain": [
       "12.5"
      ]
     },
     "execution_count": 29,
     "metadata": {},
     "output_type": "execute_result"
    }
   ],
   "source": [
    "number_of_movies_per_year.median()"
   ]
  },
  {
   "cell_type": "code",
   "execution_count": 30,
   "id": "de69b5a4-bb4c-4972-80f1-944742736eb8",
   "metadata": {},
   "outputs": [
    {
     "data": {
      "text/plain": [
       "119.01351351351352"
      ]
     },
     "execution_count": 30,
     "metadata": {},
     "output_type": "execute_result"
    }
   ],
   "source": [
    "number_of_movies_per_year.mean()"
   ]
  },
  {
   "cell_type": "code",
   "execution_count": 31,
   "id": "458a5e0b-f668-490b-9a46-5ecd9bc3e05c",
   "metadata": {},
   "outputs": [
    {
     "data": {
      "text/plain": [
       "array([2], dtype=int64)"
      ]
     },
     "execution_count": 31,
     "metadata": {},
     "output_type": "execute_result"
    }
   ],
   "source": [
    "number_of_movies_per_year.mode().values"
   ]
  },
  {
   "cell_type": "code",
   "execution_count": 32,
   "id": "d7961f84-613c-4b86-946d-c153ee04a059",
   "metadata": {},
   "outputs": [
    {
     "data": {
      "text/plain": [
       "2.8145604374491016"
      ]
     },
     "execution_count": 32,
     "metadata": {},
     "output_type": "execute_result"
    }
   ],
   "source": [
    "number_of_movies_per_year.skew()\n"
   ]
  },
  {
   "cell_type": "code",
   "execution_count": 33,
   "id": "c304477c-2127-49ba-9884-cd1e16ca1ca7",
   "metadata": {},
   "outputs": [
    {
     "data": {
      "text/plain": [
       "71279.41077378744"
      ]
     },
     "execution_count": 33,
     "metadata": {},
     "output_type": "execute_result"
    }
   ],
   "source": [
    "number_of_movies_per_year.var()"
   ]
  },
  {
   "cell_type": "code",
   "execution_count": 34,
   "id": "af1e3989-40ec-4fb8-b275-f1a245e17fde",
   "metadata": {},
   "outputs": [
    {
     "data": {
      "text/plain": [
       "266.98204204363157"
      ]
     },
     "execution_count": 34,
     "metadata": {},
     "output_type": "execute_result"
    }
   ],
   "source": [
    "number_of_movies_per_year.std()"
   ]
  },
  {
   "cell_type": "code",
   "execution_count": 35,
   "id": "31fb5b6a-edd6-4d87-b89e-5ae48656f736",
   "metadata": {},
   "outputs": [
    {
     "data": {
      "text/plain": [
       "2.8145604374491016"
      ]
     },
     "execution_count": 35,
     "metadata": {},
     "output_type": "execute_result"
    }
   ],
   "source": [
    "number_of_movies_per_year.skew()"
   ]
  },
  {
   "cell_type": "code",
   "execution_count": 36,
   "id": "cd2345c9-8793-4bef-9790-cb00ab084752",
   "metadata": {},
   "outputs": [
    {
     "data": {
      "text/plain": [
       "6.999361367773572"
      ]
     },
     "execution_count": 36,
     "metadata": {},
     "output_type": "execute_result"
    }
   ],
   "source": [
    "number_of_movies_per_year.kurt()"
   ]
  },
  {
   "cell_type": "code",
   "execution_count": 37,
   "id": "93f8654a-138d-4395-b6ef-fd97ba3a3d97",
   "metadata": {},
   "outputs": [
    {
     "data": {
      "text/html": [
       "<div>\n",
       "<style scoped>\n",
       "    .dataframe tbody tr th:only-of-type {\n",
       "        vertical-align: middle;\n",
       "    }\n",
       "\n",
       "    .dataframe tbody tr th {\n",
       "        vertical-align: top;\n",
       "    }\n",
       "\n",
       "    .dataframe thead th {\n",
       "        text-align: right;\n",
       "    }\n",
       "</style>\n",
       "<table border=\"1\" class=\"dataframe\">\n",
       "  <thead>\n",
       "    <tr style=\"text-align: right;\">\n",
       "      <th></th>\n",
       "      <th>release_year</th>\n",
       "    </tr>\n",
       "  </thead>\n",
       "  <tbody>\n",
       "    <tr>\n",
       "      <th>count</th>\n",
       "      <td>8807.000000</td>\n",
       "    </tr>\n",
       "    <tr>\n",
       "      <th>mean</th>\n",
       "      <td>2014.180198</td>\n",
       "    </tr>\n",
       "    <tr>\n",
       "      <th>std</th>\n",
       "      <td>8.819312</td>\n",
       "    </tr>\n",
       "    <tr>\n",
       "      <th>min</th>\n",
       "      <td>1925.000000</td>\n",
       "    </tr>\n",
       "    <tr>\n",
       "      <th>25%</th>\n",
       "      <td>2013.000000</td>\n",
       "    </tr>\n",
       "    <tr>\n",
       "      <th>50%</th>\n",
       "      <td>2017.000000</td>\n",
       "    </tr>\n",
       "    <tr>\n",
       "      <th>75%</th>\n",
       "      <td>2019.000000</td>\n",
       "    </tr>\n",
       "    <tr>\n",
       "      <th>max</th>\n",
       "      <td>2021.000000</td>\n",
       "    </tr>\n",
       "  </tbody>\n",
       "</table>\n",
       "</div>"
      ],
      "text/plain": [
       "       release_year\n",
       "count   8807.000000\n",
       "mean    2014.180198\n",
       "std        8.819312\n",
       "min     1925.000000\n",
       "25%     2013.000000\n",
       "50%     2017.000000\n",
       "75%     2019.000000\n",
       "max     2021.000000"
      ]
     },
     "execution_count": 37,
     "metadata": {},
     "output_type": "execute_result"
    }
   ],
   "source": [
    "netflix_titles.describe()"
   ]
  },
  {
   "cell_type": "code",
   "execution_count": 38,
   "id": "1b5e7979-e69a-4045-a52c-532d7a32c147",
   "metadata": {},
   "outputs": [
    {
     "data": {
      "image/png": "[encoded data removed]",
      "text/plain": [
       "<Figure size 640x480 with 1 Axes>"
      ]
     },
     "metadata": {},
     "output_type": "display_data"
    }
   ],
   "source": [
    "plt.boxplot(netflix_titles.release_year) \n",
    "plt.show()\n"
   ]
  },
  {
   "cell_type": "code",
   "execution_count": 39,
   "id": "31439c1d-331d-4e47-a0b5-b7685967401b",
   "metadata": {},
   "outputs": [
    {
     "data": {
      "text/plain": [
       "array(['Movie', 'TV Show'], dtype=object)"
      ]
     },
     "execution_count": 39,
     "metadata": {},
     "output_type": "execute_result"
    }
   ],
   "source": [
    "netflix_titles.type.unique()"
   ]
  },
  {
   "cell_type": "code",
   "execution_count": 40,
   "id": "bf017c6e-f64e-4382-9a6d-5a1fadb3f9d0",
   "metadata": {},
   "outputs": [
    {
     "data": {
      "text/plain": [
       "type\n",
       "Movie      6131\n",
       "TV Show    2676\n",
       "Name: count, dtype: int64"
      ]
     },
     "execution_count": 40,
     "metadata": {},
     "output_type": "execute_result"
    }
   ],
   "source": [
    "netflix_titles.type.value_counts()"
   ]
  },
  {
   "cell_type": "code",
   "execution_count": 41,
   "id": "bfcfacb1-4a86-4162-b8db-9f3a3e231222",
   "metadata": {},
   "outputs": [
    {
     "data": {
      "text/plain": [
       "type\n",
       "Movie      2013.121514\n",
       "TV Show    2016.605755\n",
       "Name: release_year, dtype: float64"
      ]
     },
     "execution_count": 41,
     "metadata": {},
     "output_type": "execute_result"
    }
   ],
   "source": [
    "netflix_titles.groupby(\"type\").release_year.mean()"
   ]
  },
  {
   "cell_type": "code",
   "execution_count": 42,
   "id": "f93acec0-17b6-4763-ae70-c4ab98927be6",
   "metadata": {},
   "outputs": [
    {
     "data": {
      "image/png": "[encoded data removed]",
      "text/plain": [
       "<Figure size 640x480 with 1 Axes>"
      ]
     },
     "metadata": {},
     "output_type": "display_data"
    },
    {
     "data": {
      "image/png": "[encoded data removed]",
      "text/plain": [
       "<Figure size 640x480 with 1 Axes>"
      ]
     },
     "metadata": {},
     "output_type": "display_data"
    }
   ],
   "source": [
    "for type, group_data in netflix_titles.groupby(\"type\"):\n",
    "    plt.hist(group_data.release_year, bins = 20, alpha = 0.7, label = type)\n",
    "    plt.legend()\n",
    "    plt.xlabel(\"Year\")\n",
    "    plt.ylabel(\"Number of items\")\n",
    "    plt.show()"
   ]
  },
  {
   "cell_type": "code",
   "execution_count": 49,
   "id": "d68fb82f-a9dd-4d4c-b7cb-66fe8d11826f",
   "metadata": {},
   "outputs": [],
   "source": [
    "diabetes_dataset = load_diabetes()"
   ]
  },
  {
   "cell_type": "code",
   "execution_count": 50,
   "id": "3ed890c0-0ccd-4235-8892-3d8271994e2c",
   "metadata": {},
   "outputs": [
    {
     "data": {
      "text/plain": [
       "dict_keys(['data', 'target', 'frame', 'DESCR', 'feature_names', 'data_filename', 'target_filename', 'data_module'])"
      ]
     },
     "execution_count": 50,
     "metadata": {},
     "output_type": "execute_result"
    }
   ],
   "source": [
    "diabetes_dataset.keys()"
   ]
  },
  {
   "cell_type": "code",
   "execution_count": 51,
   "id": "68955909-188c-4271-8dd5-df3e2d23f105",
   "metadata": {},
   "outputs": [
    {
     "name": "stdout",
     "output_type": "stream",
     "text": [
      ".. _diabetes_dataset:\n",
      "\n",
      "Diabetes dataset\n",
      "----------------\n",
      "\n",
      "Ten baseline variables, age, sex, body mass index, average blood\n",
      "pressure, and six blood serum measurements were obtained for each of n =\n",
      "442 diabetes patients, as well as the response of interest, a\n",
      "quantitative measure of disease progression one year after baseline.\n",
      "\n",
      "**Data Set Characteristics:**\n",
      "\n",
      "  :Number of Instances: 442\n",
      "\n",
      "  :Number of Attributes: First 10 columns are numeric predictive values\n",
      "\n",
      "  :Target: Column 11 is a quantitative measure of disease progression one year after baseline\n",
      "\n",
      "  :Attribute Information:\n",
      "      - age     age in years\n",
      "      - sex\n",
      "      - bmi     body mass index\n",
      "      - bp      average blood pressure\n",
      "      - s1      tc, total serum cholesterol\n",
      "      - s2      ldl, low-density lipoproteins\n",
      "      - s3      hdl, high-density lipoproteins\n",
      "      - s4      tch, total cholesterol / HDL\n",
      "      - s5      ltg, possibly log of serum triglycerides level\n",
      "      - s6      glu, blood sugar level\n",
      "\n",
      "Note: Each of these 10 feature variables have been mean centered and scaled by the standard deviation times the square root of `n_samples` (i.e. the sum of squares of each column totals 1).\n",
      "\n",
      "Source URL:\n",
      "https://www4.stat.ncsu.edu/~boos/var.select/diabetes.html\n",
      "\n",
      "For more information see:\n",
      "Bradley Efron, Trevor Hastie, Iain Johnstone and Robert Tibshirani (2004) \"Least Angle Regression,\" Annals of Statistics (with discussion), 407-499.\n",
      "(https://web.stanford.edu/~hastie/Papers/LARS/LeastAngle_2002.pdf)\n",
      "\n"
     ]
    }
   ],
   "source": [
    "print(diabetes_dataset[\"DESCR\"])"
   ]
  },
  {
   "cell_type": "code",
   "execution_count": 52,
   "id": "6e676975-abea-48a9-ad89-66f865959a74",
   "metadata": {},
   "outputs": [
    {
     "data": {
      "text/plain": [
       "array([151.,  75., 141., 206., 135.,  97., 138.,  63., 110., 310., 101.,\n",
       "        69., 179., 185., 118., 171., 166., 144.,  97., 168.,  68.,  49.,\n",
       "        68., 245., 184., 202., 137.,  85., 131., 283., 129.,  59., 341.,\n",
       "        87.,  65., 102., 265., 276., 252.,  90., 100.,  55.,  61.,  92.,\n",
       "       259.,  53., 190., 142.,  75., 142., 155., 225.,  59., 104., 182.,\n",
       "       128.,  52.,  37., 170., 170.,  61., 144.,  52., 128.,  71., 163.,\n",
       "       150.,  97., 160., 178.,  48., 270., 202., 111.,  85.,  42., 170.,\n",
       "       200., 252., 113., 143.,  51.,  52., 210.,  65., 141.,  55., 134.,\n",
       "        42., 111.,  98., 164.,  48.,  96.,  90., 162., 150., 279.,  92.,\n",
       "        83., 128., 102., 302., 198.,  95.,  53., 134., 144., 232.,  81.,\n",
       "       104.,  59., 246., 297., 258., 229., 275., 281., 179., 200., 200.,\n",
       "       173., 180.,  84., 121., 161.,  99., 109., 115., 268., 274., 158.,\n",
       "       107.,  83., 103., 272.,  85., 280., 336., 281., 118., 317., 235.,\n",
       "        60., 174., 259., 178., 128.,  96., 126., 288.,  88., 292.,  71.,\n",
       "       197., 186.,  25.,  84.,  96., 195.,  53., 217., 172., 131., 214.,\n",
       "        59.,  70., 220., 268., 152.,  47.,  74., 295., 101., 151., 127.,\n",
       "       237., 225.,  81., 151., 107.,  64., 138., 185., 265., 101., 137.,\n",
       "       143., 141.,  79., 292., 178.,  91., 116.,  86., 122.,  72., 129.,\n",
       "       142.,  90., 158.,  39., 196., 222., 277.,  99., 196., 202., 155.,\n",
       "        77., 191.,  70.,  73.,  49.,  65., 263., 248., 296., 214., 185.,\n",
       "        78.,  93., 252., 150.,  77., 208.,  77., 108., 160.,  53., 220.,\n",
       "       154., 259.,  90., 246., 124.,  67.,  72., 257., 262., 275., 177.,\n",
       "        71.,  47., 187., 125.,  78.,  51., 258., 215., 303., 243.,  91.,\n",
       "       150., 310., 153., 346.,  63.,  89.,  50.,  39., 103., 308., 116.,\n",
       "       145.,  74.,  45., 115., 264.,  87., 202., 127., 182., 241.,  66.,\n",
       "        94., 283.,  64., 102., 200., 265.,  94., 230., 181., 156., 233.,\n",
       "        60., 219.,  80.,  68., 332., 248.,  84., 200.,  55.,  85.,  89.,\n",
       "        31., 129.,  83., 275.,  65., 198., 236., 253., 124.,  44., 172.,\n",
       "       114., 142., 109., 180., 144., 163., 147.,  97., 220., 190., 109.,\n",
       "       191., 122., 230., 242., 248., 249., 192., 131., 237.,  78., 135.,\n",
       "       244., 199., 270., 164.,  72.,  96., 306.,  91., 214.,  95., 216.,\n",
       "       263., 178., 113., 200., 139., 139.,  88., 148.,  88., 243.,  71.,\n",
       "        77., 109., 272.,  60.,  54., 221.,  90., 311., 281., 182., 321.,\n",
       "        58., 262., 206., 233., 242., 123., 167.,  63., 197.,  71., 168.,\n",
       "       140., 217., 121., 235., 245.,  40.,  52., 104., 132.,  88.,  69.,\n",
       "       219.,  72., 201., 110.,  51., 277.,  63., 118.,  69., 273., 258.,\n",
       "        43., 198., 242., 232., 175.,  93., 168., 275., 293., 281.,  72.,\n",
       "       140., 189., 181., 209., 136., 261., 113., 131., 174., 257.,  55.,\n",
       "        84.,  42., 146., 212., 233.,  91., 111., 152., 120.,  67., 310.,\n",
       "        94., 183.,  66., 173.,  72.,  49.,  64.,  48., 178., 104., 132.,\n",
       "       220.,  57.])"
      ]
     },
     "execution_count": 52,
     "metadata": {},
     "output_type": "execute_result"
    }
   ],
   "source": [
    "diabetes_dataset[\"target\"]"
   ]
  },
  {
   "cell_type": "code",
   "execution_count": 54,
   "id": "a5f0289a-c017-4559-91ef-1d2d171fdfca",
   "metadata": {},
   "outputs": [],
   "source": [
    "diabetes_data = diabetes_dataset[\"data\"]"
   ]
  },
  {
   "cell_type": "code",
   "execution_count": 62,
   "id": "0c4809af-6950-44d2-acbb-38ad95864149",
   "metadata": {},
   "outputs": [
    {
     "data": {
      "image/png": "[encoded data removed]",
      "text/plain": [
       "<Figure size 640x480 with 1 Axes>"
      ]
     },
     "metadata": {},
     "output_type": "display_data"
    }
   ],
   "source": [
    "bmi = diabetes_data[:, 2]\n",
    "plt.hist(bmi)\n",
    "plt.show()"
   ]
  },
  {
   "cell_type": "code",
   "execution_count": 65,
   "id": "d3cbc32c-b2f0-4b0b-91a4-adc8f28626a0",
   "metadata": {},
   "outputs": [],
   "source": [
    "bmi = pd.Series(bmi)"
   ]
  },
  {
   "cell_type": "code",
   "execution_count": 69,
   "id": "4144fc59-a359-4dde-8c12-cf7495f05a70",
   "metadata": {},
   "outputs": [
    {
     "data": {
      "text/plain": [
       "(-2.2455642172282577e-16,\n",
       " 0.04761904761904761,\n",
       " 0.002267573696145124,\n",
       " 0.5981484879110457,\n",
       " 0.0950944742751707)"
      ]
     },
     "execution_count": 69,
     "metadata": {},
     "output_type": "execute_result"
    }
   ],
   "source": [
    "bmi.mean(), bmi.std(), bmi.var(), bmi.skew(), bmi.kurt()"
   ]
  },
  {
   "cell_type": "code",
   "execution_count": 70,
   "id": "f1774d6f-13f3-4247-84a8-514075fae3ac",
   "metadata": {},
   "outputs": [],
   "source": [
    "cholesterol_features = diabetes_data[:,[5, 6, 7]]"
   ]
  },
  {
   "cell_type": "code",
   "execution_count": 71,
   "id": "6a84b741-71ba-4b1d-bb0f-2ca5d5eb6790",
   "metadata": {},
   "outputs": [
    {
     "data": {
      "text/plain": [
       "array([[-0.03482076, -0.04340085, -0.00259226],\n",
       "       [-0.01916334,  0.07441156, -0.03949338],\n",
       "       [-0.03419447, -0.03235593, -0.00259226],\n",
       "       ...,\n",
       "       [-0.01383982, -0.02499266, -0.01107952],\n",
       "       [ 0.01528299, -0.02867429,  0.02655962],\n",
       "       [ 0.02780893,  0.17381578, -0.03949338]])"
      ]
     },
     "execution_count": 71,
     "metadata": {},
     "output_type": "execute_result"
    }
   ],
   "source": [
    "cholesterol_features"
   ]
  },
  {
   "cell_type": "code",
   "execution_count": 73,
   "id": "66552c8b-b972-4645-8f4b-0e3ab7066052",
   "metadata": {},
   "outputs": [
    {
     "data": {
      "image/png": "[encoded data removed]",
      "text/plain": [
       "<Figure size 640x480 with 1 Axes>"
      ]
     },
     "metadata": {},
     "output_type": "display_data"
    }
   ],
   "source": [
    "ldl = diabetes_data[:,5]\n",
    "hdl = diabetes_data[:,6]\n",
    "plt.hist(ldl)\n",
    "plt.hist(hdl)\n",
    "plt.show()"
   ]
  },
  {
   "cell_type": "code",
   "execution_count": 74,
   "id": "4cc81e8a-e62a-4599-b546-5469ad7ce362",
   "metadata": {},
   "outputs": [
    {
     "data": {
      "image/png": "[encoded data removed]",
      "text/plain": [
       "<Figure size 640x480 with 1 Axes>"
      ]
     },
     "metadata": {},
     "output_type": "display_data"
    }
   ],
   "source": [
    "plt.scatter(ldl, hdl) \n",
    "plt.show()"
   ]
  },
  {
   "cell_type": "markdown",
   "id": "2794f487-2135-49d5-8864-8cb416b64229",
   "metadata": {},
   "source": [
    "We can see above that there are no people that have high values of both ldl and hdl. "
   ]
  },
  {
   "cell_type": "code",
   "execution_count": 75,
   "id": "9f78fcc3-95e4-49f0-a880-91bdb2774fa1",
   "metadata": {},
   "outputs": [
    {
     "data": {
      "image/png": "[encoded data removed]",
      "text/plain": [
       "<Figure size 640x480 with 1 Axes>"
      ]
     },
     "metadata": {},
     "output_type": "display_data"
    }
   ],
   "source": [
    "plt.scatter(ldl, bmi)\n",
    "plt.show()"
   ]
  },
  {
   "cell_type": "markdown",
   "id": "196a645f-9008-4753-ae6a-91a7a6b97d54",
   "metadata": {},
   "source": [
    "**Covariance** is a measure of the relationship between two random variables. The metric evaluates how much – to what extent – the variables change together. In other words, it is essentially a measure of the variance between two variables.\n",
    "\n",
    "**Population covariance formula**:\n",
    "\n",
    "$$ Cov_{(x,y)} = \\frac{\\sum(x_i - \\bar{x})(y_i - \\bar{y})}{N}$$ \n",
    "\n",
    "**Sample covariance formula**:\n",
    "\n",
    "$$ Cov_{(x,y)} = \\frac{\\sum(x_i - \\bar{x})(y_i - \\bar{y})}{N - 1}$$ \n",
    "\n",
    "The denominator in the sample covariance formula is $ n - 1 $ because this is a correlation factor known as Bessel's correction. This correction is necessary to make the sample covariance an unbiased estimator of the population covariance. When calculating sample statistics, using $ n - 1 $ rather than $ n $ corrects for the fact that the sample mean $ \\bar{x}$ and $ \\bar{y}$ are only estimates of the true population means. This is an intersting vizualization by Khan Academy: [Why we divide by n - 1 in variance](https://www.khanacademy.org/math/ap-statistics/summarizing-quantitative-data-ap/more-standard-deviation/v/another-simulation-giving-evidence-that-n-1-gives-us-an-unbiased-estimate-of-variance#:~:text=The%20reason%20dividing%20by%20n,of%20mass%20for%20the%20data.)\n",
    "\n",
    "In the **standard normal distribution** $\\mu = 0 $ and $\\sigma = 1$. Every normal distribution can be converted to a standard normal distribution. To do this, from each value we need to subtract $\\mu$ and divide by $\\sigma$. This operation is called **Z-score**. In this way, we have the same frame for different things, also referred to as **standardization**.\n",
    "\n",
    "$$ z = \\frac{x - \\mu}{ \\sigma} $$\n",
    "\n",
    "A **z-score** measures exactly how many standard deviations above or below the mean a data point is. \r\n",
    "\r\n",
    "Here are some important facts about z-scores:\r\n",
    "* A positive z-score says the data point is above average.\r\n",
    "* A negative z-score says the data point is below average.\r\n",
    "* A z-score close to $ 0 $ says the data point is close to average.\r\n",
    "* A data point can be considered unusual if its z-score is above $ 3 $ or below $ -3 $. Note that this is a guideline and not an absolute rule. Some may say that a z-score beyond $ \\pm 2 $  is unusual, while beyond $ 3 $ is highly unusual. Some use $ \\pm 2.5 $ as the cut-off.\n"
   ]
  },
  {
   "cell_type": "code",
   "execution_count": 77,
   "id": "9e5b3cbb-62c5-478e-91ff-d9dd6625ed4b",
   "metadata": {},
   "outputs": [
    {
     "data": {
      "text/plain": [
       "array([[ 1.        , -0.36681098],\n",
       "       [-0.36681098,  1.        ]])"
      ]
     },
     "execution_count": 77,
     "metadata": {},
     "output_type": "execute_result"
    }
   ],
   "source": [
    "np.corrcoef(hdl, bmi)"
   ]
  },
  {
   "cell_type": "code",
   "execution_count": 79,
   "id": "ea2e5641-e6a6-4cdf-aae1-299e2e79522c",
   "metadata": {},
   "outputs": [
    {
     "data": {
      "text/plain": [
       "array([[ 0.00226757, -0.00083177],\n",
       "       [-0.00083177,  0.00226757]])"
      ]
     },
     "execution_count": 79,
     "metadata": {},
     "output_type": "execute_result"
    }
   ],
   "source": [
    "np.cov(hdl, bmi)"
   ]
  },
  {
   "cell_type": "markdown",
   "id": "2910cff4-93c0-47b2-8965-afb38e37b5bc",
   "metadata": {},
   "source": [
    "\n",
    "**Correlation coefficients** are used to measure how strong a relationship is between two variables. There are several types of correlation coefficients, but the most popular is Pearson’s. **Pearson’s** correlation (also called Pearson’s R) is a correlation coefficient commonly used in linear regression. \n",
    "\n",
    "As with covariance itself, the measure can only reflect a linear correlation of variables, and ignores many other types of relationships or correlations. As a simple example, one would expect the age and height of a sample of teenagers from a high school to have a Pearson correlation coefficient significantly greater than 0, but less than 1 (as 1 would represent an unrealistically perfect correlation).\n",
    "\n",
    "Correlation coefficient formulas are used to find how strong a relationship is between data. \n",
    "\n",
    "**Pearson correlation coefficient**:\n",
    "\n",
    "$$ r = \\frac{\\sum (x_i - \\bar{x})(y_i - \\bar{y})}{\\sqrt{\\sum (x_i - \\bar{x})^2 \\sum (y_i - \\bar{y})^2}} $$\n",
    "\n",
    "\r\n",
    "* $ r = $ correlation coefficient\r\n",
    "* $ x_i = $ values of the x-variable in a sample\r\n",
    "* $ \\bar{x} $ = mean of the values of the x-variable\r\n",
    "* $ y_{i} $ = values of the y-variable in a sample\r\n",
    "* $ \\bar{y} $ = mean of the values of the y-variableiable\r\n",
    "\n",
    "\n",
    "The formulas return a value between $ -1 $ and $ 1 $, where:\n",
    "\n",
    "* $ 1 $ indicates a strong positive relationship.\n",
    "* $ -1 $ indicates a strong negative relationship.\n",
    "* A result of $ 0 $ indicates no relationship at all.\n",
    "\n",
    "A **correlation matrix** is a table showing correlation coefficients between variables. Each cell in the table shows the correlation between two variables. A correlation matrix is used to summarize data, as an input into a more advanced analysis, and as a diagnostic for advanced analyses.\n",
    "\n",
    "**Correlation does not imply causation.**\n",
    "\n",
    "However, correlation can imply causation.\n",
    "\n",
    "For any group of things, you can use the various correlations between them (or the lack of correlations) to eliminate some of the possible cause-and-effect rel\n",
    "\n",
    "In statistics, an **outlier88 is a data point that differs significantly from other observations. An outlier may be due to a variability in the measurement, an indication of novel data, or it may be the result of experimental error; the latter are sometimes excluded from the data set. ationships.\n",
    "\n",
    "A **Bayesian network** is a probabilistic graphical model that represents a set of variables and their conditional dependencies via a directed acyclic graph (DAG). While it is one of several forms of causal notation, **causal networks** are special cases of Bayesian networks. Bayesian networks are ideal for taking an event that occurred and predicting the likelihood that any one of several possible known causes was the contributing factor. For example, a Bayesian network could represent the probabilistic relationships between diseases and symptoms. Given symptoms, the network can be used to compute the probabilities of the presence of various diseases.\n",
    "\n",
    "It is important to get to know your data. List as many assumptions and simplifications as possible.\n",
    "\n",
    "**The Simpson's Paradox** occurs when groups of data show one particular trend, but this trend is reversed when the groups are combined together. Understanding and identifying this paradox is important for correctly interpreting data. This paradox often occurs whenever there one works with a lot of aggregated data.\n",
    "\n",
    "The **likelihood** is deduced using Bayes' theorem, which describes the probability of an event, based on prior knowledge of conditions that might be related to the event. For example, if the risk of developing health problems is known to increase with age, Bayes' theorem allows the risk to an individual of a known age to be assessed more accurately by conditioning it relative to their age, rather than assuming that the individual is typical of the population as a whThe likelihood function (often simply called the likelihood) is the joint probability mass (or probability density) of observed data viewed as a function of the parameters of a statistical model. Intuitively, the likelihood function $\\mathcal{L}(\\theta \\mid x)$ is the probability of observing data $x$ assuming $\\theta$ is the actual parameter.\r\n",
    "\r\n",
    "The likelihood function of a sample, is the joint density of the random variables involved but viewed as a function of the unknown parameters given a specific sample of realizations from these random variables.\r\n",
    "\r\n",
    "### Mean Square Error (MSE)\r\n",
    "\r\n",
    "In statistics, the mean squared error (MSE) or mean squared deviation (MSD) of an estimator (of a procedure for estimating an unobserved quantity) measures the average of the squares of the errors—that is, the average squared difference between the estimated values and the actual value. MSE is a risk function, corresponding to the expected value of the squared error loss. The fact that MSE is almost always strictly positive (and not zero) is because of randomness or because the estimator does not account for information that could produce a more accurate estIn machine learning, specifically empirical risk minimization, MSE may refer to the empirical risk (the average loss on an observed data set), as an estimate of the true MSE (the true risk: the average loss on the actual population distribution). In the fields of regression analysis and machine learning, the Mean Square Error (MSE) is a crucial metric for evaluating the performance of predictive models. It measures the average squared difference between the predicted and the actual target values within a dataset.\r\n"
   ]
  },
  {
   "cell_type": "code",
   "execution_count": null,
   "id": "b507642e-e68f-4ad9-b07c-e3b80b550442",
   "metadata": {},
   "outputs": [],
   "source": []
  }
 ],
 "metadata": {
  "kernelspec": {
   "display_name": "Python 3 (ipykernel)",
   "language": "python",
   "name": "python3"
  },
  "language_info": {
   "codemirror_mode": {
    "name": "ipython",
    "version": 3
   },
   "file_extension": ".py",
   "mimetype": "text/x-python",
   "name": "python",
   "nbconvert_exporter": "python",
   "pygments_lexer": "ipython3",
   "version": "3.11.7"
  }
 },
 "nbformat": 4,
 "nbformat_minor": 5
}
